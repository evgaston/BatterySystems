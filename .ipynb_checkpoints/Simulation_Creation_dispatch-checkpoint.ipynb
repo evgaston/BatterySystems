{
 "cells": [
  {
   "cell_type": "code",
<<<<<<< HEAD
   "execution_count": 1,
=======
   "execution_count": 38,
>>>>>>> Velvet
   "metadata": {},
   "outputs": [],
   "source": [
    "import pandas as pd\n",
    "import random\n",
    "import scipy as sp\n",
    "import numpy as np\n",
    "import cvxpy as cvx\n",
    "import mosek\n",
    "import matplotlib.pyplot as plt\n",
    "import math\n",
    "import parameters"
   ]
  },
  {
   "cell_type": "markdown",
   "metadata": {},
   "source": [
    "#### Load Data"
   ]
  },
  {
   "cell_type": "code",
<<<<<<< HEAD
   "execution_count": 2,
   "metadata": {},
   "outputs": [],
   "source": [
    "dfTripData = pd.read_csv(\"location_data.csv\")\n",
    "dfLoadData=pd.read_csv(\"use_data_2wk.csv\") #365 days, 1 min increment, 142 houses \n",
    "dfGenData=pd.read_csv(\"annual_capfac_15MinInterpolation.csv\") #representative solar day, 15 min interval\n",
    "dfAsPrices=pd.read_csv('20180701_20180701_PRC_AS_DAM_v1.csv')\n",
    "dfCostElectric=pd.read_csv(\"TOU_Rate.csv\") #15 min interal 4-9 pm, I think this is tou B"
=======
   "execution_count": 39,
   "metadata": {},
   "outputs": [],
   "source": [
    "dfTripData = pd.read_csv(\"Data/location_data.csv\")\n",
    "dfLoadData=pd.read_csv(\"Data/use_data_2wk.csv\") #365 days, 1 min increment, 142 houses \n",
    "dfGenData=pd.read_csv(\"Data/annual_capfac_15MinInterpolation.csv\") #representative solar day, 15 min interval\n",
    "#dfAsPrices=pd.read_csv('20180701_20180701_PRC_AS_DAM_v1.csv')\n",
    "#RD/RU DAM\n",
    "dfAsRDdamPrices=pd.read_csv(\"Data/AS_Prices/DAM/20190701_20190801_PRC_AS_DAM_REGDOWN.csv\")\n",
    "dfAsRUdamPrices=pd.read_csv(\"Data/AS_Prices/DAM/20190701_20190801_PRC_AS_DAM_REGUP.csv\")\n",
    "#RDU/RU RTM\n",
    "dfAsRDrtmPrices=pd.read_csv(\"Data/AS_Prices/RTM/20190701_20190731_PRC_INTVL_AS_RTM_REGDOWN.csv\")\n",
    "dfAsRUrtmPrices=pd.read_csv(\"Data/AS_Prices/RTM/20190701_20190731_PRC_INTVL_AS_RTM_REGUP.csv\")  \n",
    "\n",
    "dfCostElectric=pd.read_csv(\"Data/TOU_Rate.csv\") #15 min interal 4-9 pm, I think this is tou B"
>>>>>>> Velvet
   ]
  },
  {
   "cell_type": "markdown",
   "metadata": {},
   "source": [
    "#### Script Parameters"
   ]
  },
  {
   "cell_type": "code",
<<<<<<< HEAD
   "execution_count": 3,
=======
   "execution_count": 40,
>>>>>>> Velvet
   "metadata": {},
   "outputs": [],
   "source": [
    "intNumHouseNodes = 5\n",
    "intNumCommNodes = 2\n",
    "intTotalNodes = intNumHouseNodes + intNumCommNodes\n",
    "intAvgNumCarsNode = 5 # goal is to have about 5 * 5 total cars\n",
    "intSdNumCarsNode = 1\n",
    "intProfiles = dfTripData.shape[0]\n",
    "\n",
    "# could make battery parameters a randomized instantiation\n",
    "fltCarEff = 3.95 # mi/kWh\n",
    "fltBatteryCap = 40. # kWh\n",
    "fltChargeRate = 1.9 # kW\n",
    "fltDt = 0.25 # delta T\n",
    "fltHomeRate = 7 # kW\n",
    "fltWorkRate = 7 # kW\n",
    "\n",
    "# time and conversion intervals\n",
    "int_minutes=int(15)\n",
    "int_run_days=2 # day\n",
    "int_run_hours=24 # hours\n",
    "int_run_time_interval=60/int_minutes #\n",
    "time_kwh=15/60  # convert kw data to kwh\n",
    "\n",
    "\n",
    "# cost to charge\n",
    "lsCostElectric = []\n",
    "lsHolder = dfCostElectric.values.tolist()\n",
    "for ind in range(int_run_days):\n",
    "    for n in lsHolder:\n",
    "        lsCostElectric.append(n[0])\n",
    "        "
   ]
  },
  {
   "cell_type": "markdown",
   "metadata": {},
   "source": [
    "#### Functions"
   ]
  },
  {
   "cell_type": "code",
<<<<<<< HEAD
   "execution_count": 4,
=======
   "execution_count": 41,
>>>>>>> Velvet
   "metadata": {},
   "outputs": [],
   "source": [
    "def BatteryDegradationModel ():\n",
    "    # dummy values -- MUST UPDATE\n",
    "    #velvet->debugged, but wasnt sure intent on some of these, should this actually be part of a function that is called in the objective function?\n",
    "\n",
    "    # battery constants\n",
    "    fltAlphaSei = 5.75 * 10**-2\n",
    "    fltBetaSei = 121\n",
    "    fltKdelta1 = 1.40 * 10**5\n",
    "    fltKdelta2 = -5.01 * 10**-1\n",
    "    fltKdelta3= 1.23*10**5\n",
    "    fltKsigma = 1.04\n",
    "    fltSigmaRef = 0.5\n",
    "    fltKtime = 4.14* 10**-10 # 1/s\n",
    "    fltKtemp = 6.93 * 10**-2\n",
    "    fltTref = 25 \n",
    "    fltCost = 7000 # cost of Tesla battery replacement\n",
    "\n",
    "    fltTemp=25\n",
    "    fltDepthofDischarge=0.6\n",
    "    fltStateofCharge=0.5\n",
    "    fltTime=3600*int_run_hours # time in seconds\n",
    "\n",
    "\n",
    "    fltStressTemp=math.exp(fltKtemp*(fltTemp-fltTref))*fltTref/fltTemp\n",
    "    fltStressSOC=math.exp(fltKsigma*(fltStateofCharge-fltSigmaRef))\n",
    "    #fltStressTime=fltKtime*fltTime  #not clear what t is supposed to be \n",
    "    fltStressDischarge=(fltKdelta1*fltDepthofDischarge**fltKdelta2+fltKdelta3)**(-1)\n",
    "\n",
    "    fltDegradation=(fltStressDischarge)*fltStressSOC*fltStressTemp\n",
    "\n",
    "    #varBatteryLife=fltAlphaSei*math.exp((-varNumberOfCycles*fltBetaSei*fltDegradation))+(1-fltAlphaSei)*math.exp((-varNumberOfCycles*fltDegradation))\n",
    "    #need to double check the inputs \n",
    "        \n",
    "    return fltAlphaSei,fltBetaSei,fltDegradation"
   ]
  },
  {
   "cell_type": "markdown",
   "metadata": {},
   "source": [
    "#### Execute"
   ]
  },
  {
   "cell_type": "code",
<<<<<<< HEAD
   "execution_count": 15,
=======
   "execution_count": 42,
>>>>>>> Velvet
   "metadata": {},
   "outputs": [],
   "source": [
    "# call functions to get Nodes Dataframe\n",
    "dfNodesTrips, intVeHouses = parameters.createCarsNodes(intNumHouseNodes, intNumCommNodes, intAvgNumCarsNode, intSdNumCarsNode, \\\n",
    "                    intProfiles, dfTripData)\n",
    "\n",
    "#create df of loads for commercial & residential nodes\n",
    "arrHouseLoads,dfNodeLoads, PeakTimes,PeakLoads, \\\n",
    "lsNodes,dctHomeNode = parameters.convertLoadData(dfLoadData,dfNodesTrips, \\\n",
    "                                    int_run_days,int_run_hours,int_minutes, intVeHouses,intNumCommNodes,intNumHouseNodes)\n",
    "\n",
    "#create generation for 15 min increments for each node\n",
    "arrHouseGen,dfNodeGens,npGenData = parameters.SolarGenData(dfGenData,int_run_days,int_run_hours,int_minutes, \\\n",
    "                                              intVeHouses,intNumCommNodes,intNumHouseNodes, dctHomeNode)\n",
    "\n",
    "\n",
    "# now call function to get the SOC constraints array\n",
    "arrSOCconstraint = parameters.getSOCconstraints(dfNodesTrips,\\\n",
    "                dfTripData, fltCarEff, fltChargeRate, fltDt, int_run_days)\n",
    "\n",
    "# # call function to get an array of maximum charging rates and map to location by node\n",
    "arrChargeRate, arrCanCharge,\\\n",
    "arrChargeLoc, arrHomeStation = parameters.MapCarNodesTime(int_minutes,\\\n",
    "                               int_run_hours,int_run_days, intVeHouses,dfNodesTrips,\\\n",
    "                               dfTripData, fltHomeRate, fltWorkRate)\n",
    "\n",
    "\n",
    "# # call function to get initial SOCs of vehicles\n",
    "# # replaces first column of soc constraint array\n",
    "arrSOCconstraint = parameters.getInitialSoc(arrSOCconstraint, fltBatteryCap)  #should this have a different name?\n",
    "\n",
    "# # call function to get power consumption of the vehicle\n",
    "arrConsumptionFinal = parameters.findVehicleConsumption(dfNodesTrips, dfTripData, fltCarEff, \\\n",
    "                fltDt, int_run_days)\n",
    "\n",
    "# #Get Ancillarys service cost values \n",
<<<<<<< HEAD
    "lsRuValue, lsRdValue = parameters.getAsValues(dfAsPrices, int_run_days)\n",
=======
    "dfRTMru,dfRTMrd,dfDAMru,dfDAMrd,DAMrdMax,DAMruMax,RTMruMax,RTMrdMax = parameters.processAsValues(dfAsRDdamPrices,dfAsRUdamPrices,dfAsRDrtmPrices,dfAsRUrtmPrices,int_run_days)\n",
>>>>>>> Velvet
    "\n",
    "\n",
    "dfNetNodeLoad,arrNetHomeLoad,\\\n",
    "dctNodeIdentity, dctResIdentity = parameters.netLoadChargeLoc(arrHouseGen,arrHouseLoads,\\\n",
    "                                arrChargeLoc,dfNodeLoads,dfNodeGens,intVeHouses,\\\n",
    "                                intTotalNodes,lsNodes,int_minutes,int_run_hours, \\\n",
    "                                int_run_days, arrHomeStation)\n",
    "\n",
    "lsRuIdentity, lsRdIdentity = parameters.dispatches(int_run_days, int_run_hours, int_run_time_interval, 0.1)\n",
    "\n",
<<<<<<< HEAD
    "\n",
    "\n",
    "lsRuValueMax = lsRuValue\n",
    "lsRdValueMax = lsRdValue\n"
=======
    "\n"
>>>>>>> Velvet
   ]
  },
  {
   "cell_type": "markdown",
   "metadata": {},
   "source": [
    "#### Vehicle AS Dispatch"
   ]
  },
  {
   "cell_type": "code",
<<<<<<< HEAD
   "execution_count": 22,
   "metadata": {},
   "outputs": [],
   "source": [
    "def make_dispatch_constraints(arrSOCconstraint, arrChargeRate, arrCanCharge,dctNodeIdentity,lsNodes, \\\n",
    "                     arrConsumptionFinal,PeakLoads,intTotalNodes,dfNetNodeLoad,\\\n",
    "                     fltBatteryCap,fltDt,lsCostElectric,lsRdValueMax,lsRuValueMax,\\\n",
    "                     lsRuIdentity, lsRdIdentity):\n",
=======
   "execution_count": 57,
   "metadata": {},
   "outputs": [],
   "source": [
    "def make_dispatch_constraints(arrSOCconstraint, arrChargeRate, arrCanCharge,\\\n",
    "                        dctNodeIdentity,lsNodes, arrConsumptionFinal,PeakLoads,intTotalNodes,dfNetNodeLoad,\\\n",
    "                     fltBatteryCap,fltDt,lsCostElectric,lsRuIdentity, lsRdIdentity, DAMrdMax,DAMruMax):\n",
>>>>>>> Velvet
    "    \n",
    "    intVehicles = np.shape(arrSOCconstraint)[0]\n",
    "    intTimes = np.shape(arrSOCconstraint)[1]\n",
    "    \n",
    "    # make variables\n",
    "    varCharge = cvx.Variable((intVehicles,intTimes)) # charging rate of vehicles\n",
    "    varDischarge = cvx.Variable((intVehicles,intTimes)) # discharging rate of vehicles\n",
    "    varSOCs = cvx.Variable((intVehicles,intTimes)) # SOCs of the vehicles\n",
    "    varBatteryLife=cvx.Variable((intVehicles)) #battery life of the vehicle remaining\n",
    "    varNodeSum=cvx.Variable((intTotalNodes, intTimes))\n",
    "    \n",
    "    # define regulation up and down variables\n",
    "    varRegUp = cvx.Variable((np.shape(arrCanCharge))) #this array is # vehiclesxtimesteps\n",
    "    varRegDown = cvx.Variable((np.shape(arrCanCharge)))\n",
    "    varNumberOfCycles=cvx.Variable(intVehicles)\n",
    "    varDegradationCost=cvx.Variable(intVehicles)\n",
    " \n",
    "    # initialzie constraints\n",
    "    constraints = []\n",
    "    \n",
    "    # define the charge rate rate constraints\n",
    "    constraints += [varCharge >= 0] # positively defined\n",
    "    constraints += [varDischarge <= 0] # negatively defined\n",
    "    constraints += [varSOCs >= 0] # can't have negative SOC\n",
    "    constraints += [varSOCs <= fltBatteryCap] # can't over charge\n",
    "    constraints += [varNodeSum >= 0]\n",
    "    constraints += [varRegUp >= 0]\n",
    "    constraints += [varRegDown >= 0]\n",
    "    constraints += [varDegradationCost >= 0] #positively constrained \n",
    "    constraints += [varNumberOfCycles >= 0]\n",
    "    \n",
    "    for v in range(intVehicles):\n",
    "        \n",
    "        # ensure we still meet our battery demand through regular charging, this may not be relevant since reg down could supply?\n",
    "        constraints += [cvx.sum(varCharge[v,:]) + cvx.sum(varDischarge[v,:]) >= cvx.sum(arrConsumptionFinal[v,:])]           \n",
    "        \n",
    "        # loop through each time to model charging and SOC constraints\n",
    "        for t in range(intTimes):\n",
    "            \n",
    "            # can only charge/discharge if present and max rate is given by array\n",
    "            constraints += [varCharge[v, t] <= arrChargeRate[v,t]*arrCanCharge[v, t]]\n",
    "            constraints += [-1*arrChargeRate[v,t]*arrCanCharge[v, t] <= varDischarge[v,t]]     \n",
    "            \n",
    "            # RegUp and RegDown Definition\n",
    "            #can only charge up to max charge rate less whatever was needed to charge the vehicle \n",
    "            constraints += [varRegDown[v,t] <= (arrChargeRate[v,t] - varCharge[v,t])*arrCanCharge[v,t]]\n",
    "            # or what is left to charge batteries capacity\n",
    "            constraints += [varRegDown[v,t] <= ((fltBatteryCap - varSOCs[v,t])/fltDt \\\n",
    "                                                            - varCharge[v,t])*arrCanCharge[v,t]]\n",
    "            \n",
    "            # reg up constraints \n",
    "            # it is at most the charge rate if it's avalable\n",
    "            constraints += [varRegUp[v,t] <= (arrChargeRate[v,t] + varDischarge[v,t])*arrCanCharge[v,t]]\n",
    "            # or what it's minimum SOC requriement is\n",
    "            constraints += [varRegUp[v,t] <= ((varSOCs[v,t] - arrSOCconstraint[v,t])/fltDt \\\n",
    "                                                          + varDischarge[v,t])*arrCanCharge[v,t]]\n",
    "            \n",
    "            # vehicle's SOC must be greater than the minimum requirement\n",
    "            constraints += [varSOCs[v,t] >= arrSOCconstraint[v,t]]\n",
    "           \n",
    "        # must end at the same SOC it started at \n",
    "        constraints += [varSOCs[v,0] == varSOCs[v,-1]]\n",
    "            \n",
    "        # SOC function  \n",
    "        for t in range(1,intTimes): # loop through from time 1 to end to set SOC, \n",
    "            \n",
    "            constraints += [varSOCs[v,t]  == varSOCs[v,t-1] + fltDt*(varCharge[v,t] + varDischarge[v,t] \\\n",
    "                                    + varRegDown[v,t]*lsRdIdentity[t] + arrConsumptionFinal[v,t] \\\n",
    "                                    - varRegUp[v,t]*lsRuIdentity[t])]\n",
    "   \n",
    "    for n, node in enumerate(lsNodes):\n",
    "        \n",
    "        # find the transformer size \n",
    "        TransformerMax = PeakLoads[node]*1.5  # max is 20% above max load\n",
    "        # load has to be less than that \n",
    "        constraints += [varNodeSum[n,:] <= TransformerMax]\n",
    "        \n",
    "        # gather node identities \n",
    "        arrNodeIdentities= dctNodeIdentity[node]\n",
    "        for t in range (intTimes):\n",
    "            constraints+= [varNodeSum[n,t] == cvx.sum(arrNodeIdentities[:,t] * (varCharge[:,t] \\\n",
    "                                    + varDischarge[:,t] - varRegDown[:,t]*lsRdIdentity[t]\\\n",
    "                                    + varRegUp[:,t]*lsRuIdentity[t]) \\\n",
    "                                                      + dfNetNodeLoad[node].iloc[t])]\n",
    "            \n",
    "    for v in range(intVehicles):\n",
    "        \n",
    "        # set up number of cycles based on the sum of all charge & discharge including reg up and down \n",
    "        constraints+= [varNumberOfCycles[v] >= ((cvx.sum(varCharge[v,:]) - cvx.sum(varDischarge[v,:]) \\\n",
    "                                                + cvx.sum(varRegDown[v,:]*lsRdIdentity) - cvx.sum(arrConsumptionFinal[v,:])\\\n",
    "                                            + cvx.sum(varRegUp[v,:]*lsRuIdentity)))*fltDt/fltBatteryCap]\n",
    "        \n",
    "        #simplified linear degradation value \n",
    "        constraints+= [varDegradationCost[v] >= 4.66*varNumberOfCycles[v]]\n",
    "             \n",
    "   \n",
    "    return constraints, varRegDown,varRegUp,varCharge,varNumberOfCycles, varDegradationCost\n",
    "\n"
   ]
  },
  {
   "cell_type": "code",
<<<<<<< HEAD
   "execution_count": 25,
=======
   "execution_count": 58,
>>>>>>> Velvet
   "metadata": {},
   "outputs": [],
   "source": [
    "def make_dispatch_objectives(constraints, varRegDown,varRegUp,varCharge,varDegradationCost,\\\n",
<<<<<<< HEAD
    "                    lsCostElectric,lsRdValueMax,lsRuValueMax):\n",
    "    \n",
    "    obj_value = cvx.sum(lsRdValueMax*cvx.sum(varRegDown,axis=0)) + \\\n",
    "                cvx.sum(lsRuValueMax*cvx.sum(varRegUp,axis=0)) - \\\n",
=======
    "                    lsCostElectric,lsRuIdentity, lsRdIdentity,DAMrdMax,DAMruMax):\n",
    "    \n",
    "    obj_value = cvx.sum(DAMrdMax*cvx.sum(varRegDown,axis=0)) + \\\n",
    "                cvx.sum(DAMruMax*cvx.sum(varRegUp,axis=0)) - \\\n",
>>>>>>> Velvet
    "                cvx.sum(lsCostElectric*cvx.sum(varCharge,axis=0)) - \\\n",
    "                cvx.sum(varDegradationCost) -\\\n",
    "                    cvx.sum(lsCostElectric*cvx.sum(varRegDown,axis=0)*lsRdIdentity)\n",
    "    \n",
    "    return obj_value, varRegUp, varRegDown,varCharge\n"
   ]
  },
  {
   "cell_type": "code",
<<<<<<< HEAD
   "execution_count": 26,
   "metadata": {},
   "outputs": [
    {
     "data": {
      "text/plain": [
       "-293.9477661331687"
      ]
     },
     "execution_count": 26,
     "metadata": {},
     "output_type": "execute_result"
=======
   "execution_count": 55,
   "metadata": {},
   "outputs": [
    {
     "ename": "NameError",
     "evalue": "name 'multiply' is not defined",
     "output_type": "error",
     "traceback": [
      "\u001b[1;31m---------------------------------------------------------------------------\u001b[0m",
      "\u001b[1;31mNameError\u001b[0m                                 Traceback (most recent call last)",
      "\u001b[1;32m<ipython-input-55-9e52e0d21c7a>\u001b[0m in \u001b[0;36m<module>\u001b[1;34m\u001b[0m\n\u001b[0;32m      2\u001b[0m varCharge,varNumberOfCycles, varDegradationCost= make_dispatch_constraints(arrSOCconstraint, arrChargeRate, arrCanCharge,\\\n\u001b[0;32m      3\u001b[0m                         \u001b[0mdctNodeIdentity\u001b[0m\u001b[1;33m,\u001b[0m\u001b[0mlsNodes\u001b[0m\u001b[1;33m,\u001b[0m \u001b[0marrConsumptionFinal\u001b[0m\u001b[1;33m,\u001b[0m\u001b[0mPeakLoads\u001b[0m\u001b[1;33m,\u001b[0m\u001b[0mintTotalNodes\u001b[0m\u001b[1;33m,\u001b[0m\u001b[0mdfNetNodeLoad\u001b[0m\u001b[1;33m,\u001b[0m\u001b[0;31m\\\u001b[0m\u001b[1;33m\u001b[0m\u001b[1;33m\u001b[0m\u001b[0m\n\u001b[1;32m----> 4\u001b[1;33m                      fltBatteryCap,fltDt,lsCostElectric,lsRuIdentity, lsRdIdentity, DAMrdMax,DAMruMax)\n\u001b[0m\u001b[0;32m      5\u001b[0m obj_value, varRegUp, varRegDown, varCharge =  make_dispatch_objectives(constraints, varRegDown,varRegUp,varCharge,varDegradationCost,\\\n\u001b[0;32m      6\u001b[0m                     lsCostElectric,lsRuIdentity,lsRdIdentity,DAMrdMax,DAMruMax)\n",
      "\u001b[1;32m<ipython-input-53-21065a0caaae>\u001b[0m in \u001b[0;36mmake_dispatch_constraints\u001b[1;34m(arrSOCconstraint, arrChargeRate, arrCanCharge, dctNodeIdentity, lsNodes, arrConsumptionFinal, PeakLoads, intTotalNodes, dfNetNodeLoad, fltBatteryCap, fltDt, lsCostElectric, lsRuIdentity, lsRdIdentity, DAMrdMax, DAMruMax)\u001b[0m\n\u001b[0;32m     95\u001b[0m \u001b[1;33m\u001b[0m\u001b[0m\n\u001b[0;32m     96\u001b[0m         \u001b[1;31m#simplified linear degradation value\u001b[0m\u001b[1;33m\u001b[0m\u001b[1;33m\u001b[0m\u001b[1;33m\u001b[0m\u001b[0m\n\u001b[1;32m---> 97\u001b[1;33m         \u001b[0mconstraints\u001b[0m\u001b[1;33m+=\u001b[0m \u001b[1;33m[\u001b[0m\u001b[0mvarDegradationCost\u001b[0m\u001b[1;33m[\u001b[0m\u001b[0mv\u001b[0m\u001b[1;33m]\u001b[0m \u001b[1;33m>=\u001b[0m \u001b[0mmultiply\u001b[0m\u001b[1;33m(\u001b[0m\u001b[1;36m4.66\u001b[0m\u001b[1;33m,\u001b[0m\u001b[0mvarNumberOfCycles\u001b[0m\u001b[1;33m[\u001b[0m\u001b[0mv\u001b[0m\u001b[1;33m]\u001b[0m\u001b[1;33m)\u001b[0m\u001b[1;33m]\u001b[0m\u001b[1;33m\u001b[0m\u001b[1;33m\u001b[0m\u001b[0m\n\u001b[0m\u001b[0;32m     98\u001b[0m \u001b[1;33m\u001b[0m\u001b[0m\n\u001b[0;32m     99\u001b[0m \u001b[1;33m\u001b[0m\u001b[0m\n",
      "\u001b[1;31mNameError\u001b[0m: name 'multiply' is not defined"
     ]
>>>>>>> Velvet
    }
   ],
   "source": [
    "constraints, varRegDown,varRegUp,\\\n",
    "varCharge,varNumberOfCycles, varDegradationCost= make_dispatch_constraints(arrSOCconstraint, arrChargeRate, arrCanCharge,\\\n",
    "                        dctNodeIdentity,lsNodes, arrConsumptionFinal,PeakLoads,intTotalNodes,dfNetNodeLoad,\\\n",
<<<<<<< HEAD
    "                     fltBatteryCap,fltDt,lsCostElectric,lsRdValueMax,lsRuValueMax,\\\n",
    "                     lsRuIdentity, lsRdIdentity)\n",
    "obj_value, varRegUp, varRegDown, varCharge =  make_dispatch_objectives(constraints, varRegDown,varRegUp,varCharge,varDegradationCost,\\\n",
    "                    lsCostElectric,lsRdValueMax,lsRuValueMax)\n",
=======
    "                     fltBatteryCap,fltDt,lsCostElectric,lsRuIdentity, lsRdIdentity, DAMrdMax,DAMruMax)\n",
    "obj_value, varRegUp, varRegDown, varCharge =  make_dispatch_objectives(constraints, varRegDown,varRegUp,varCharge,varDegradationCost,\\\n",
    "                    lsCostElectric,lsRuIdentity,lsRdIdentity,DAMrdMax,DAMruMax)\n",
>>>>>>> Velvet
    "    \n",
    "# convex usually needs to be minimized\n",
    "obj = cvx.Maximize(obj_value)\n",
    "prob = cvx.Problem(obj, constraints)\n",
    "\n",
    "prob.solve(solver=cvx.MOSEK)"
   ]
  },
  {
   "cell_type": "code",
<<<<<<< HEAD
   "execution_count": 29,
=======
   "execution_count": null,
>>>>>>> Velvet
   "metadata": {},
   "outputs": [],
   "source": [
    "# THINGS TO SAVE !!\n",
    "fltObjective = obj_value.value\n",
    "arrRuDispatches = varRegUp.value*lsRuIdentity  \n",
    "arrRdDispatches = varRegDown.value*lsRuIdentity\n",
    "arrDegradation = varDegradationCost.value # this is for each vehicle. sum? \n",
    "arrNumberCycles = varNumberOfCycles.value\n",
    "fltRegUpVal = np.sum(varRegUp.value*lsRuValueMax)\n",
    "fltRegDownVal = np.sum(varRegDown.value*lsRdValueMax)\n"
   ]
  },
  {
   "cell_type": "code",
<<<<<<< HEAD
   "execution_count": 37,
   "metadata": {},
   "outputs": [
    {
     "data": {
      "text/plain": [
       "Text(0.5,1,'Regulation Down Dispatch')"
      ]
     },
     "execution_count": 37,
     "metadata": {},
     "output_type": "execute_result"
    },
    {
     "data": {
      "image/png": "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\n",
      "text/plain": [
       "<Figure size 792x504 with 1 Axes>"
      ]
     },
     "metadata": {},
     "output_type": "display_data"
    }
   ],
=======
   "execution_count": null,
   "metadata": {},
   "outputs": [],
>>>>>>> Velvet
   "source": [
    "arrRegDown = varRegDown.value*lsRdIdentity\n",
    "\n",
    "fig, ax = plt.subplots(figsize=(11,7))\n",
    "for ind in range(1,np.shape(arrRegDown)[1]):\n",
    "\n",
    "    if ind == 1: \n",
    "        \n",
    "        ax.fill_between(np.arange(96*2),np.zeros(96*2),np.array(arrRegDown[ind,:]).flatten())\n",
    "    \n",
    "    else: \n",
    "        \n",
    "        lb = np.sum(arrRegDown[0:ind,:],axis=0)\n",
    "        ub = np.sum(arrRegDown[0:ind+1,:],axis=0)\n",
    "       \n",
    "        ax.fill_between(np.arange(96*2),np.array(lb).flatten(),np.array(ub).flatten())\n",
    "\n",
    "\n",
    "plt.ylabel('kW')\n",
    "plt.xlabel(\"Hour\")\n",
    "plt.title(\"Regulation Down Dispatch\")\n",
    "# plt.savefig(\"regDown.png\")"
   ]
  },
  {
   "cell_type": "code",
<<<<<<< HEAD
   "execution_count": 36,
   "metadata": {},
   "outputs": [
    {
     "data": {
      "text/plain": [
       "Text(0.5,1,'Regulation Up Dispatch')"
      ]
     },
     "execution_count": 36,
     "metadata": {},
     "output_type": "execute_result"
    },
    {
     "data": {
      "image/png": "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\n",
      "text/plain": [
       "<Figure size 792x504 with 1 Axes>"
      ]
     },
     "metadata": {},
     "output_type": "display_data"
    }
   ],
=======
   "execution_count": null,
   "metadata": {},
   "outputs": [],
>>>>>>> Velvet
   "source": [
    "arrRegUp = varRegUp.value*lsRuIdentity\n",
    "\n",
    "fig, ax = plt.subplots(figsize=(11,7))\n",
    "for ind in range(1,np.shape(arrRegUp)[1]):\n",
    "    \n",
    "\n",
    "    if ind == 1: \n",
    "        \n",
    "        ax.fill_between(np.arange(96*2),np.zeros(96*2),np.array(arrRegUp[ind,:]).flatten())\n",
    "    \n",
    "    else: \n",
    "        \n",
    "        lb = np.sum(arrRegUp[0:ind,:],axis=0)\n",
    "        ub = np.sum(arrRegUp[0:ind+1,:],axis=0)\n",
    "       \n",
    "        ax.fill_between(np.arange(96*2),np.array(lb).flatten(),np.array(ub).flatten())\n",
    "\n",
    "plt.ylabel('kW')\n",
    "plt.xlabel(\"Hour of Day\")\n",
    "plt.title(\"Regulation Up Dispatch\")\n",
    "# plt.savefig(\"regUp.png\")"
   ]
  },
  {
   "cell_type": "markdown",
   "metadata": {},
   "source": [
    "#### Optimize for TOU only"
   ]
  },
  {
   "cell_type": "code",
<<<<<<< HEAD
   "execution_count": 41,
=======
   "execution_count": null,
>>>>>>> Velvet
   "metadata": {},
   "outputs": [],
   "source": [
    "def make_tou_constraints(arrSOCconstraint, arrChargeRate, arrCanCharge,\\\n",
    "                     fltDt, fltBatteryCap, arrConsumptionFinal, PeakLoads,intTotalNodes, dfNetNodeLoad):\n",
    "    \n",
    "\n",
    "    intVehicles = np.shape(arrSOCconstraint)[0]\n",
    "    intTimes = np.shape(arrSOCconstraint)[1]\n",
    "    \n",
    "    # make variables\n",
    "    varCharge = cvx.Variable((intVehicles,intTimes)) # charging rate of vehicles\n",
    "    # no need for discharge variable\n",
    "    varSOCs = cvx.Variable((intVehicles,intTimes)) # SOCs of the vehicles\n",
    "    varNodeSum = cvx.Variable((intTotalNodes, intTimes))\n",
    "    \n",
    "    # initialzie constraints\n",
    "    constraints = []\n",
    "    \n",
    "    # define the charge rate rate constraints\n",
    "    constraints += [varCharge >= 0] # positively defined\n",
    "    constraints += [varSOCs >= 0] # can't have negative SOC\n",
    "    constraints += [varSOCs <= fltBatteryCap] # can't over charge\n",
    "    constraints += [varNodeSum >= 0]\n",
    "      \n",
    "    # define charging limits for each vehicle at each time\n",
    "    for v in range(intVehicles):\n",
    "        \n",
    "      # loop through each time to model charging and SOC constraints\n",
    "        for t in range(intTimes):\n",
    "            \n",
    "            # can only charge if present and max rate is given by array\n",
    "            constraints += [varCharge[v, t] <= arrChargeRate[v,t]*arrCanCharge[v, t]]\n",
    "            \n",
    "            # vehicle's SOC must be greater than the minimum requirement\n",
    "            constraints += [varSOCs[v,t] >= arrSOCconstraint[v,t]]\n",
    "        \n",
    "        # must end at the same SOC it started at \n",
    "        constraints += [varSOCs[v,0] == varSOCs[v,-1]]\n",
    "        \n",
    "        for t in range(1,intTimes): # loop through from time 1 to end to set SOC\n",
    "            \n",
    "            constraints += [varSOCs[v,t]  == varSOCs[v,t-1] + varCharge[v,t]*fltDt + arrConsumptionFinal[v,t]*fltDt]\n",
    "    \n",
    "    for n, node in enumerate(lsNodes):\n",
    "        \n",
    "        # find the transformer size \n",
    "        TransformerMax=PeakLoads[node]*1.5  #max is 20% above max load\n",
    "        # load has to be less than that \n",
    "        constraints+= [varNodeSum[n,:] <= TransformerMax]\n",
    "        \n",
    "        # gather node identigies \n",
    "        arrNodeIdentities= dctNodeIdentity[node]\n",
    "        for t in range (intTimes):\n",
    "            constraints+= [varNodeSum[n,t] == cvx.sum(arrNodeIdentities[:,t]*varCharge[:,t]) + dfNetNodeLoad[node].iloc[t]]\n",
    "        \n",
    "    \n",
    "    return constraints, varCharge, varSOCs\n",
    "    "
   ]
  },
  {
   "cell_type": "code",
<<<<<<< HEAD
   "execution_count": 42,
=======
   "execution_count": null,
>>>>>>> Velvet
   "metadata": {},
   "outputs": [],
   "source": [
    "def make_tou_objectives(constraints, varCharge,arrSOCconstraint,fltDt,lsCostElectric,arrConsumptionFinal):\n",
    "    \n",
    "    \n",
    "    intVehicles = np.shape(arrSOCconstraint)[0]\n",
    "    intTimes = np.shape(arrSOCconstraint)[1]\n",
    "    \n",
    "    varCostToCharge = cvx.Variable(intTimes) # payments to charge vehicle\n",
    "    varNumberOfCycles = cvx.Variable(intVehicles)\n",
    "    varDegradationCost = cvx.Variable(intVehicles)\n",
    "    \n",
    "    constraints += [varDegradationCost >= 0] #positively constrained \n",
    "    constraints += [varNumberOfCycles >= 0]\n",
    "    \n",
    "    for v in range(intVehicles):\n",
    "        constraints+= [varNumberOfCycles[v] == (cvx.sum(varCharge[v,:])-np.sum(arrConsumptionFinal[v,:]))*fltDt/fltBatteryCap]\n",
    "        constraints+= [varDegradationCost[v] == 4.66*varNumberOfCycles[v]]\n",
    "     \n",
    "    for t in range(intTimes):\n",
    "        \n",
    "        constraints += [varCostToCharge[t] == cvx.sum(varCharge[:,t])*lsCostElectric[t]*fltDt]\n",
    "\n",
    "    obj_value = cvx.sum(varCostToCharge) + cvx.sum(varDegradationCost)\n",
    "    \n",
    "    return constraints, obj_value"
   ]
  },
  {
   "cell_type": "code",
<<<<<<< HEAD
   "execution_count": 43,
   "metadata": {},
   "outputs": [
    {
     "data": {
      "text/plain": [
       "136.9827200563809"
      ]
     },
     "execution_count": 43,
     "metadata": {},
     "output_type": "execute_result"
    }
   ],
=======
   "execution_count": null,
   "metadata": {},
   "outputs": [],
>>>>>>> Velvet
   "source": [
    "constraints, varCharge, varSOCs = make_tou_constraints(arrSOCconstraint, arrChargeRate, arrCanCharge,\\\n",
    "                                                fltDt, fltBatteryCap, arrConsumptionFinal,PeakLoads,intTotalNodes, dfNetNodeLoad)\n",
    "\n",
    "constraints, obj_value = make_tou_objectives(constraints, varCharge,arrSOCconstraint,fltDt,lsCostElectric,arrConsumptionFinal)\n",
    "\n",
    "obj = cvx.Minimize(obj_value)\n",
    "prob = cvx.Problem(obj, constraints)\n",
    "\n",
    "prob.solve(solver=cvx.MOSEK)"
   ]
  },
  {
   "cell_type": "code",
<<<<<<< HEAD
   "execution_count": 136,
=======
   "execution_count": null,
>>>>>>> Velvet
   "metadata": {},
   "outputs": [],
   "source": [
    "# SAVE THESE\n",
    "arrCharge = varCharge.value\n",
    "fltObjective = obj_value.value\n",
    "import math"
   ]
  },
  {
   "cell_type": "code",
<<<<<<< HEAD
   "execution_count": 145,
   "metadata": {},
   "outputs": [
    {
     "name": "stdout",
     "output_type": "stream",
     "text": [
      "['H']\n",
      "['H']\n",
      "['H']\n",
      "['H']\n",
      "['H', 'H', 'H', 'H', 'H', 'H', 'H', 'H', 'H', 'H', 'H', 'H', 'H']\n",
      "['H', 'H', 'H', 'H', 'H', 'H', 'H', 'H', 'H', 'H', 'H', 'H', 'H']\n",
      "['H']\n",
      "['A', 'W', 'W', 'W', 'W', 'W', 'W', 'W', 'W', 'W', 'W', 'W', 'W', 'W', 'W', 'W', 'W', 'W', 'W', 'W', 'W', 'W', 'W', 'W']\n",
      "['H']\n",
      "['A', 'W', 'W', 'W', 'W', 'W', 'W', 'W', 'W', 'W', 'W', 'W', 'W', 'W', 'W', 'W', 'W', 'W', 'W', 'W', 'W', 'W', 'W', 'W']\n",
      "['H', 'H', 'H', 'H']\n",
      "['H', 'H', 'H', 'H', 'H', 'H']\n",
      "['H']\n",
      "['H', 'H', 'H', 'H', 'H', 'H']\n",
      "['H']\n",
      "['H']\n",
      "['H']\n",
      "['A', 'W', 'W', 'W', 'W', 'W', 'W', 'W', 'W', 'W', 'W', 'W', 'W', 'W', 'W', 'W', 'W', 'W', 'W', 'W', 'W', 'W', 'W', 'W', 'W', 'W', 'W', 'W', 'W', 'W', 'W', 'W', 'W', 'W', 'W', 'W', 'W', 'W', 'W', 'W', 'W']\n",
      "['H']\n",
      "['A', 'W', 'W', 'W', 'W', 'W', 'W', 'W', 'W', 'W', 'W', 'W', 'W', 'W', 'W', 'W', 'W', 'W', 'W', 'W', 'W', 'W', 'W', 'W', 'W', 'W', 'W', 'W', 'W', 'W', 'W', 'W', 'W', 'W', 'W', 'W', 'W', 'W', 'W', 'W', 'W']\n",
      "['H']\n",
      "['A', 'W', 'W', 'W', 'W', 'W', 'W', 'W', 'W', 'W', 'W', 'W', 'W', 'W', 'W', 'W', 'W', 'W', 'W', 'W', 'W', 'W', 'W', 'W', 'W', 'W', 'W', 'W', 'W', 'W', 'W', 'W', 'W']\n",
      "['H']\n",
      "['A', 'W', 'W', 'W', 'W', 'W', 'W', 'W', 'W', 'W', 'W', 'W', 'W', 'W', 'W', 'W', 'W', 'W', 'W', 'W', 'W', 'W', 'W', 'W', 'W', 'W', 'W', 'W', 'W', 'W', 'W', 'W', 'W']\n",
      "['H', 'H', 'H']\n",
      "['A', 'W', 'W', 'W', 'W', 'W', 'W', 'W', 'W', 'W', 'W', 'W', 'W', 'W', 'W', 'W', 'W', 'W', 'W', 'W', 'W', 'W', 'W', 'W', 'W', 'W', 'W', 'W', 'W', 'W', 'W', 'W', 'W', 'W', 'W', 'W', 'W']\n",
      "['H']\n",
      "['A', 'W', 'W', 'W', 'W', 'W', 'W', 'W', 'W', 'W', 'W', 'W', 'W', 'W', 'W', 'W', 'W', 'W', 'W', 'W', 'W', 'W', 'W', 'W', 'W', 'W', 'W', 'W', 'W', 'W', 'W', 'W', 'W', 'W', 'W', 'W', 'W']\n",
      "['H', 'H', 'H', 'H', 'H', 'H', 'H', 'H', 'H']\n",
      "['H']\n",
      "['H']\n",
      "['H', 'H']\n",
      "['H']\n",
      "['H', 'H']\n",
      "['H', 'H', 'H', 'H', 'H', 'H', 'H', 'H', 'H', 'H', 'H', 'H', 'H', 'H', 'H', 'H', 'H', 'H', 'H', 'H', 'H', 'H', 'H', 'H', 'H', 'H']\n",
      "['H']\n",
      "['H']\n",
      "['A', 'W', 'W', 'W', 'W', 'W', 'W', 'W', 'W', 'W', 'W', 'W', 'W', 'W', 'W', 'W', 'W', 'W', 'W', 'W', 'W', 'W', 'W', 'W', 'W', 'W', 'W', 'W', 'W', 'W', 'W', 'W', 'W', 'W', 'W']\n",
      "['H']\n",
      "['A', 'W', 'W', 'W', 'W', 'W', 'W', 'W', 'W', 'W', 'W', 'W', 'W', 'W', 'W', 'W', 'W', 'W', 'W', 'W', 'W', 'W', 'W', 'W', 'W', 'W', 'W', 'W', 'W', 'W', 'W', 'W', 'W', 'W', 'W']\n",
      "['H', 'H', 'H', 'H']\n",
      "['A', 'W', 'W', 'W', 'W', 'W', 'W', 'W', 'W', 'W', 'W', 'W', 'W', 'W', 'W', 'W', 'W', 'W', 'W', 'W', 'W', 'W', 'W', 'W', 'W', 'W', 'W', 'W', 'W', 'W', 'W', 'W', 'W', 'W', 'W', 'W']\n",
      "['H', 'H', 'H', 'H', 'H', 'H', 'H', 'H', 'H', 'H']\n",
      "['H']\n",
      "['A', 'W', 'W', 'W', 'W', 'W', 'W', 'W', 'W', 'W', 'W', 'W', 'W', 'W', 'W', 'W', 'W', 'W', 'W', 'W', 'W', 'W', 'W', 'W', 'W', 'W', 'W', 'W', 'W', 'W', 'W', 'W', 'W', 'W', 'W', 'W']\n",
      "['H', 'H', 'H', 'H', 'H', 'H', 'H', 'H', 'H', 'H']\n",
      "['H']\n",
      "['A', 'W', 'W', 'W', 'W', 'W', 'W', 'W', 'W', 'W', 'W', 'W', 'W', 'W', 'W', 'W', 'W', 'W', 'W', 'W', 'W', 'W', 'W', 'W']\n",
      "['H', 'H', 'H', 'H', 'H', 'H']\n",
      "['A', 'H', 'H', 'H', 'H', 'H', 'H', 'H', 'H', 'H', 'H', 'H', 'H', 'H', 'H', 'H', 'H', 'H', 'H', 'H', 'H', 'H', 'H', 'H']\n",
      "['H']\n",
      "['A', 'W', 'W', 'W', 'W', 'W', 'W', 'W', 'W', 'W', 'W', 'W', 'W', 'W', 'W', 'W', 'W', 'W', 'W', 'W', 'W', 'W', 'W', 'W']\n",
      "['H', 'H', 'H', 'H', 'H', 'H']\n",
      "['A', 'H', 'H', 'H', 'H', 'H', 'H', 'H', 'H', 'H', 'H', 'H', 'H', 'H', 'H', 'H', 'H', 'H', 'H', 'H', 'H', 'H', 'H', 'H']\n",
      "['H']\n",
      "['H']\n",
      "['H']\n",
      "['A', 'W', 'W', 'W', 'W', 'W', 'W', 'W', 'W', 'W', 'W', 'W', 'W', 'W', 'W', 'W', 'W', 'W', 'W', 'W', 'W', 'W', 'W', 'W', 'W', 'W', 'W', 'W', 'W', 'W', 'W', 'W', 'W', 'W', 'W', 'W', 'W', 'W']\n",
      "['H']\n",
      "['A', 'W', 'W', 'W', 'W', 'W', 'W', 'W', 'W', 'W', 'W', 'W', 'W', 'W', 'W', 'W', 'W', 'W', 'W', 'W', 'W', 'W', 'W', 'W', 'W', 'W', 'W', 'W', 'W', 'W', 'W', 'W', 'W', 'W', 'W', 'W', 'W', 'W']\n"
     ]
    }
   ],
=======
   "execution_count": null,
   "metadata": {},
   "outputs": [],
>>>>>>> Velvet
   "source": [
    "# i think this is calculating the lost flexibility ? -- save this \n",
    "lsFlex = []\n",
    "for ind, strId in enumerate(dfNodesTrips['TripId']):\n",
    "    \n",
    "    lsLocations = dfTripData.loc[dfTripData['ID'] == strId].values.flatten()[3:-1].tolist()\n",
    "    for day in range(int_run_days-1):\n",
    "        lsLocations = lsLocations + lsLocations\n",
    " \n",
    "    intStart = 0\n",
    "    while intStart < 96*int_run_days and 'A' in lsLocations[intStart:]:\n",
    "\n",
    "        # Find the first first time we start moving\n",
    "        intStart = intStart + lsLocations[intStart:].index('A')\n",
    "\n",
    "        # find how many time steps back we were charging\n",
    "        intFlex = 0\n",
    "        strLoc = 'H' # place holder\n",
    "        while np.round(arrCharge[ind,intStart-intFlex],2) == 0 and strLoc != 'A':\n",
    "            intFlex += 1\n",
    "            strLoc = lsLocations[intStart-intFlex]\n",
    "        lsFlex.append(intFlex)\n",
    "\n",
    "        # from there find when we arrive at a destination\n",
    "        if 'W' in lsLocations[intStart:] and 'H' in lsLocations[intStart:]:\n",
    "            intEnd = min(lsLocations[intStart:].index('H'), lsLocations[intStart:].index('W'))\n",
    "        elif 'W' in lsLocations[intStart:]:\n",
    "            intEnd = lsLocations[intStart:].index('W')\n",
    "        elif 'H' in lsLocations[intStart:]:\n",
    "            intEnd = lsLocations[intStart:].index('H')\n",
    "        else: # we are going to assume they are driving the rest of the time??\n",
    "            break\n",
    "\n",
    "        intStart += intEnd\n"
   ]
  },
  {
   "cell_type": "code",
<<<<<<< HEAD
   "execution_count": 120,
   "metadata": {},
   "outputs": [
    {
     "data": {
      "text/plain": [
       "0.026141044297052034"
      ]
     },
     "execution_count": 120,
     "metadata": {},
     "output_type": "execute_result"
    }
   ],
=======
   "execution_count": null,
   "metadata": {},
   "outputs": [],
>>>>>>> Velvet
   "source": [
    "lsLocations[137]\n",
    "arrCharge[1,136]"
   ]
  },
  {
   "cell_type": "markdown",
   "metadata": {},
   "source": [
    "#### Optimize a stationary battery"
   ]
  },
  {
   "cell_type": "code",
<<<<<<< HEAD
   "execution_count": 120,
=======
   "execution_count": null,
>>>>>>> Velvet
   "metadata": {},
   "outputs": [],
   "source": [
    "def make_battery_constraints(arrSOCconstraint, arrChargeRate, dctResIdentity,lsResNodes, \\\n",
    "                     PeakLoads,intTotalNodes,dfNetNodeLoad,\\\n",
    "                     fltBatteryCap,fltDt,lsCostElectric,lsRdValueMax,lsRuValueMax,\\\n",
    "                     lsRuIdentity, lsRdIdentity, fltWorkRate):\n",
    "    \n",
    "    intVehicles = np.shape(arrSOCconstraint)[0]\n",
    "    intTimes = np.shape(arrSOCconstraint)[1]\n",
    "    \n",
    "    # make variables\n",
    "    varCharge = cvx.Variable((intVehicles,intTimes)) # charging rate of vehicles\n",
    "    varDischarge = cvx.Variable((intVehicles,intTimes)) # discharging rate of vehicles\n",
    "    varSOCs = cvx.Variable((intVehicles,intTimes)) # SOCs of the vehicles\n",
    "    varBatteryLife=cvx.Variable((intVehicles)) #battery life of the vehicle remaining\n",
    "    varNodeSum=cvx.Variable((intTotalNodes, intTimes))\n",
    "    \n",
    "    # define regulation up and down variables\n",
    "    varRegUp = cvx.Variable((np.shape(arrCanCharge))) #this array is # vehiclesxtimesteps\n",
    "    varRegDown = cvx.Variable((np.shape(arrCanCharge)))\n",
    "    varNumberOfCycles=cvx.Variable(intVehicles)\n",
    "    varDegradationCost=cvx.Variable(intVehicles)\n",
    " \n",
    "    # initialzie constraints\n",
    "    constraints = []\n",
    "    \n",
    "    # define the charge rate rate constraints\n",
    "    constraints += [varCharge >= 0] # positively defined\n",
    "    constraints += [varDischarge <= 0] # negatively defined\n",
    "    constraints += [varCharge <= fltWorkRate]\n",
    "    constraints += [varSOCs >= 0] # can't have negative SOC\n",
    "    constraints += [varDischarge >= -1*fltWorkRate]\n",
    "    constraints += [varSOCs <= fltBatteryCap] # can't over charge\n",
    "    constraints += [varNodeSum >= 0]\n",
    "    constraints += [varRegUp >= 0]\n",
    "    constraints += [varRegDown >= 0]\n",
    "    constraints += [varDegradationCost >= 0] #positively constrained \n",
    "    constraints += [varNumberOfCycles >= 0]\n",
    "    \n",
    "    for v in range(intVehicles):\n",
    "         \n",
    "        # loop through each time to model charging and SOC constraints\n",
    "        for t in range(intTimes):\n",
    "             \n",
    "            # RegUp and RegDown Definition\n",
    "            #can only charge up to max charge rate less whatever was needed to charge the vehicle \n",
    "            constraints += [varRegDown[v,t] <= (fltWorkRate - varCharge[v,t])]\n",
    "            # or what is left to charge batteries capacity\n",
    "            constraints += [varRegDown[v,t] <= ((fltBatteryCap - varSOCs[v,t])/fltDt - varCharge[v,t])]\n",
    "            \n",
    "            # reg up constraints \n",
    "            # it is at most the charge rate if it's avalable\n",
    "            constraints += [varRegUp[v,t] <= (arrChargeRate[v,t] + varDischarge[v,t])]\n",
    "            # or what it's minimum SOC requriement is\n",
    "            constraints += [varRegUp[v,t] <= varSOCs[v,t]/fltDt + varDischarge[v,t]]\n",
    "              \n",
    "        # must end at the same SOC it started at \n",
    "        constraints += [varSOCs[v,0] == varSOCs[v,-1]]\n",
    "            \n",
    "        # SOC function  \n",
    "        for t in range(1,intTimes): # loop through from time 1 to end to set SOC, \n",
    "            \n",
    "            constraints += [varSOCs[v,t]  == varSOCs[v,t-1] + fltDt*(varCharge[v,t] + varDischarge[v,t] \\\n",
    "                                    + varRegDown[v,t]*lsRdIdentity[t] - varRegUp[v,t]*lsRuIdentity[t])]\n",
    "     \n",
    "    # residential node constraints        \n",
    "    for n, node in enumerate(lsResNodes):\n",
    "        \n",
    "        # find the transformer size \n",
    "        TransformerMax=PeakLoads[node]*1.5  #max is 20% above max load\n",
    "        # load has to be less than that \n",
    "        constraints+= [varNodeSum[n,:] <= TransformerMax]\n",
    "        \n",
    "        # gather node identities \n",
    "        arrNodeIdentities= dctResIdentity[node]\n",
    "        for t in range (intTimes):\n",
    "            constraints+= [varNodeSum[n,t] == cvx.sum(arrNodeIdentities[:,t] * (varCharge[:,t] \\\n",
    "                                    + varDischarge[:,t] - varRegDown[:,t]*lsRdIdentity[t]\\\n",
    "                                    + varRegUp[:,t]*lsRuIdentity[t]) \\\n",
    "                                                      + dfNetNodeLoad[node].iloc[t])]\n",
    "    \n",
    "    for v in range(intVehicles):\n",
    "        \n",
    "        # set up number of cycles based on the sum of all charge & discharge including reg up and down \n",
    "        constraints+= [varNumberOfCycles[v] >= ((cvx.sum(varCharge[v,:]) - cvx.sum(varDischarge[v,:]) \\\n",
    "                                                + cvx.sum(varRegDown[v,:]*lsRdIdentity) \\\n",
    "                                            + cvx.sum(varRegUp[v,:]*lsRuIdentity)))*fltDt/fltBatteryCap]\n",
    "        \n",
    "        #simplified linear degradation value \n",
    "        constraints+= [varDegradationCost[v] >= 4.66*varNumberOfCycles[v]]\n",
    "             \n",
    "   \n",
    "    return constraints, varRegDown,varRegUp,varCharge,varDegradationCost\n"
   ]
  },
  {
   "cell_type": "code",
<<<<<<< HEAD
   "execution_count": 121,
=======
   "execution_count": null,
>>>>>>> Velvet
   "metadata": {},
   "outputs": [],
   "source": [
    "def make_battery_objectives(constraints, varRegDown,varRegUp,varCharge,varDegradationCost,\\\n",
    "                    lsCostElectric,lsRdValueMax,lsRuValueMax):\n",
    "    \n",
    "        \n",
    "    obj_value = cvx.sum(lsRdValueMax*cvx.sum(varRegDown,axis=0)) + \\\n",
    "                cvx.sum(lsRuValueMax*cvx.sum(varRegUp,axis=0)) - \\\n",
    "                cvx.sum(lsCostElectric*cvx.sum(varCharge,axis=0)) - \\\n",
    "                cvx.sum(lsCostElectric*cvx.sum(varRegDown,axis=0)*lsRdIdentity) -\\\n",
    "                cvx.sum(varDegradationCost)\n",
    "    \n",
    "    return obj_value, varRegUp, varRegDown,varCharge\n"
   ]
  },
  {
   "cell_type": "code",
<<<<<<< HEAD
   "execution_count": 122,
   "metadata": {},
   "outputs": [
    {
     "data": {
      "text/plain": [
       "300.57347843583875"
      ]
     },
     "execution_count": 122,
     "metadata": {},
     "output_type": "execute_result"
    }
   ],
=======
   "execution_count": null,
   "metadata": {},
   "outputs": [],
>>>>>>> Velvet
   "source": [
    "lsResNodes = [strNode for strNode in lsNodes if \"Res\" in strNode]\n",
    "constraints, varRegDown,varRegUp,varCharge,varDegradationCost = make_battery_constraints(arrSOCconstraint, arrChargeRate, dctResIdentity,lsResNodes, \\\n",
    "                     PeakLoads,intTotalNodes,dfNetNodeLoad,\\\n",
    "                     fltBatteryCap,fltDt,lsCostElectric,lsRdValueMax,lsRuValueMax,\\\n",
    "                     lsRuIdentity, lsRdIdentity, fltWorkRate)\n",
    "\n",
    "obj_value, varRegUp, varRegDown,varCharge = make_battery_objectives(constraints, varRegDown,varRegUp,varCharge,\\\n",
    "                                            varDegradationCost,lsCostElectric,lsRdValueMax,lsRuValueMax)\n",
    "\n",
    "\n",
    "obj = cvx.Maximize(obj_value)\n",
    "prob = cvx.Problem(obj, constraints)\n",
    "\n",
    "prob.solve(solver=cvx.MOSEK)"
   ]
  },
  {
   "cell_type": "code",
<<<<<<< HEAD
   "execution_count": 40,
=======
   "execution_count": null,
>>>>>>> Velvet
   "metadata": {},
   "outputs": [],
   "source": [
    "# THINGS TO SAVE !!\n",
    "fltObjective = obj_value.value\n",
    "arrRuDispatches = varRegUp.value*lsRuIdentity  \n",
    "arrRdDispatches = varRegDown.value*lsRuIdentity\n",
    "arrDegradation = varDegradationCost.value # this is for each vehicle. sum? \n",
    "arrNumberCycles = varNumberOfCycles.value\n",
    "fltRegUpVal = np.sum(varRegUp.value*lsRuValueMax)\n",
    "fltRegDownVal = np.sum(varRegDown.value*lsRdValueMax)\n"
   ]
  },
  {
   "cell_type": "markdown",
   "metadata": {},
   "source": [
    "# OLD"
   ]
  },
  {
   "cell_type": "markdown",
   "metadata": {},
   "source": [
    "#### Calculate the AS revenue if these were just stationary batteries"
   ]
  },
  {
   "cell_type": "markdown",
   "metadata": {},
   "source": [
    "##### Are we going to compare total aggregate (not node based) AS capacity with vehcile to grid to this aggregated AS capacity?\n",
    "###### Cannot directly compare node capacity since these batteries are moving? "
   ]
  },
  {
   "cell_type": "code",
   "execution_count": null,
   "metadata": {},
   "outputs": [],
   "source": [
    "def make_battery_constraints(fltWorkRate, fltDt, fltBatteryCap, intVehicles, intTimes, arrSOCconstraint, \\\n",
    "                             dctResIdentity,lsResNodes, dfNetNodeLoad):\n",
    "    \n",
    "    \n",
    "    # make variables\n",
    "    varCharge = cvx.Variable((intVehicles,intTimes)) # charging rate of vehicles\n",
    "    varDischarge = cvx.Variable((intVehicles, intTimes)) # discharging rate of vehicles \n",
    "    varSOCs = cvx.Variable((intVehicles,intTimes)) # SOCs of the vehicles\n",
    "    varNodeSum = cvx.Variable((len(lsResNodes), intTimes))\n",
    "   \n",
    "    # initialzie constraints\n",
    "    constraints = []\n",
    "    \n",
    "    # define the charge rate rate constraints\n",
    "    constraints += [0 <= varCharge]\n",
    "    constraints += [varCharge <= fltWorkRate]\n",
    "    constraints += [-1*fltWorkRate <= varDischarge]\n",
    "    constraints += [varDischarge <= 0]\n",
    "    constraints += [varSOCs >= 0] # can't have negative SOC\n",
    "    constraints += [varSOCs <= fltBatteryCap] # can't over charge\n",
    " \n",
    "    # SOC definition\n",
    "    for v in range(intVehicles):\n",
    "        \n",
    "        # only specicify the inital SOC  has to equal end SOC\n",
    "        constraints += [varSOCs[v,0] == varSOCs[v,-1]]\n",
    "        \n",
    "        for t in range(1,intTimes): # loop through from time 1 to end to set SOC\n",
    "\n",
    "            constraints += [varSOCs[v,t]  == varSOCs[v,t-1] + varCharge[v,t]*fltDt + varDischarge[v,t]*fltDt]\n",
    "\n",
    "    # residential node constraints        \n",
    "    for n, node in enumerate(lsResNodes):\n",
    "        \n",
    "        # find the transformer size \n",
    "        TransformerMax=PeakLoads[node]*1.5  #max is 20% above max load\n",
    "        # load has to be less than that \n",
    "        constraints+= [varNodeSum[n,:] <= TransformerMax]\n",
    "        \n",
    "        # gather node identities \n",
    "        arrNodeIdentities= dctResIdentity[node]\n",
    "        for t in range (intTimes):\n",
    "            constraints+= [varNodeSum[n,t] == cvx.sum(arrNodeIdentities[:,t]*varCharge[:,t])+ dfNetNodeLoad[node].iloc[t]]\n",
    "    \n",
    "    \n",
    "    return constraints, varCharge, varDischarge, varSOCs\n",
    "    "
   ]
  },
  {
   "cell_type": "code",
   "execution_count": null,
   "metadata": {},
   "outputs": [],
   "source": [
    "def make_battery_objectives(constraints, varCharge, varDischarge, varSOCs, intVehicles, intTimes, \\\n",
    "                    fltBatteryCap,fltDt,lsCostElectric,lsRdValue,lsRuValue,\n",
    "                    dctResIdentity):\n",
    "    \n",
    "    \n",
    "    # define regulation up and down variables\n",
    "    varRegUp = cvx.Variable((intVehicles, intTimes)) #this array is # vehiclesxtimesteps\n",
    "    varRegDown = cvx.Variable((intVehicles, intTimes))\n",
    "    varNumberOfCycles=cvx.Variable(intVehicles)\n",
    "    varDegradationCost=cvx.Variable(intVehicles)\n",
    "\n",
    "    # always positive\n",
    "    constraints += [varRegUp >= 0]\n",
    "    constraints += [varRegDown >= 0]\n",
    "    constraints += [varNumberOfCycles >= 0]\n",
    "    constraints += [varDegradationCost >= 0]\n",
    "   \n",
    "    for v in range(intVehicles):\n",
    "#         constraints+= [varNumberOfCycles[v] >= (cvx.sum(varCharge[v,:]))*fltDt/fltBatteryCap]\n",
    "        constraints+= [varNumberOfCycles[v] >= (cvx.sum(varCharge[v,:]) - \\\n",
    "                                     cvx.sum(varDischarge[v,:]))*fltDt/fltBatteryCap]\n",
    "        constraints+= [varDegradationCost[v] >= 4.66*varNumberOfCycles[v]]\n",
    "        \n",
    "\n",
    "        for t in range(intTimes):\n",
    "    \n",
    "            # reg down constraints\n",
    "            # it is at most the charging rate if it's available\n",
    "            constraints += [varRegDown[v,t] <= (fltWorkRate - varCharge[v,t])*lsRdValue[t]]\n",
    "            # or what is left to charge batteries capacity\n",
    "            constraints += [varRegDown[v,t] <= ((fltBatteryCap - varSOCs[v,t])/fltDt - varCharge[v,t])*lsRdValue[t]]\n",
    "            \n",
    "            # reg up constraints \n",
    "            # it is at most the charge rate if it's avalable \n",
    "            constraints += [varRegUp[v,t] <= (fltWorkRate + varDischarge[v,t])*lsRuValue[t]]\n",
    "            # or what it's minimum SOC requriement is\n",
    "            constraints += [varRegUp[v,t] <= (varSOCs[v,t]/fltDt + varDischarge[v,t])*lsRuValue[t]]\n",
    "    \n",
    "    obj_value = cvx.sum(varRegDown) + \\\n",
    "                cvx.sum(varRegUp) - \\\n",
    "                cvx.sum(lsCostElectric*cvx.sum(varCharge,axis=0)) - \\\n",
    "               cvx.sum(varDegradationCost)\n",
    "    \n",
    "    return constraints, obj_value, varRegUp, varRegDown"
   ]
  },
  {
   "cell_type": "code",
   "execution_count": null,
   "metadata": {},
   "outputs": [],
   "source": [
    "intVehicles = np.shape(arrChargeRate)[0]\n",
    "intTimes = np.shape(arrChargeRate)[1]\n",
    "\n",
    "lsResNodes = [strNode for strNode in lsNodes if \"Res\" in strNode]\n",
    "\n",
    "constraints, varCharge, varDischarge, varSOCs= make_battery_constraints(fltWorkRate, fltDt, fltBatteryCap, intVehicles, intTimes, arrSOCconstraint, \\\n",
    "                             dctResIdentity, lsResNodes, dfNetNodeLoad)\n",
    "\n",
    "constraints, obj_value, varRegUp, varRegDown = make_battery_objectives(constraints, varCharge, varDischarge, varSOCs, intVehicles, intTimes, \\\n",
    "                    fltBatteryCap,fltDt,lsCostElectric,lsRdValue,lsRuValue,\n",
    "                    dctResIdentity)\n",
    "\n",
    "obj = cvx.Maximize(obj_value)\n",
    "prob = cvx.Problem(obj, constraints)\n",
    "\n",
    "\n",
    "arrRegUp = varRegUp.value\n",
    "arrRegDown = varRegDown.value\n",
    "print('Done!')"
   ]
  },
  {
   "cell_type": "code",
   "execution_count": null,
   "metadata": {},
   "outputs": [],
   "source": [
    "arrRegUp = varRegUp.value\n",
    "\n",
    "fig, ax = plt.subplots(figsize=(11,7))\n",
    "for ind in range(1,np.shape(arrRegUp)[1]):\n",
    "\n",
    "    if ind == 1: \n",
    "        \n",
    "        ax.fill_between(np.arange(96*2),np.zeros(96*2),np.array(arrRegUp[ind,:]).flatten())\n",
    "    \n",
    "    else: \n",
    "        \n",
    "        lb = np.sum(arrRegUp[0:ind,:],axis=0)\n",
    "        ub = np.sum(arrRegUp[0:ind+1,:],axis=0)\n",
    "       \n",
    "        ax.fill_between(np.arange(96*2),np.array(lb).flatten(),np.array(ub).flatten())\n",
    "\n",
    "plt.plot(np.arange(96*2), lsRuValue,color='black')\n",
    "plt.ylabel('$')\n",
    "plt.xlabel(\"Hour of Day\")\n",
    "plt.title(\"Regulation Up Capacity\")"
   ]
  },
  {
   "cell_type": "code",
   "execution_count": null,
   "metadata": {},
   "outputs": [],
   "source": [
    "print(np.sum(varRegDown.value))\n",
    "print(np.sum(varRegUp.value))\n",
    "print(np.sum(varCharge.value))\n",
    "print(np.sum(varDischarge.value))\n",
    "print((obj.value))\n",
    "print(varRegDown.value)\n",
    "print(varRegUp.value)\n",
    "print(array)"
   ]
  },
  {
   "cell_type": "code",
   "execution_count": null,
   "metadata": {},
   "outputs": [],
   "source": [
    "cars = np.shape(arrConsumptionFinal)[0]\n",
    "time= np.shape(arrConsumptionFinal)[1]\n",
    "\n",
    "regUp = varRegUp.value\n",
    "regDown= varRegDown.value\n",
    "\n",
    "for c in range(cars):\n",
    "    for t in range(time):\n",
    "        \n",
    "        if regUp[c,t] > 0 and regDown[c,t] >0:\n",
    "            print(\"Trouble\",regUp[c,t],regDown[c,t])\n"
   ]
  },
  {
   "cell_type": "code",
   "execution_count": null,
   "metadata": {},
   "outputs": [],
   "source": []
  },
  {
   "cell_type": "code",
<<<<<<< HEAD
   "execution_count": 18,
=======
   "execution_count": null,
>>>>>>> Velvet
   "metadata": {},
   "outputs": [],
   "source": [
    "# def make_dispatch_constraints(arrSOCconstraint, arrChargeRate, arrCanCharge,dctNodeIdentity,lsNodes, \\\n",
    "#                      arrConsumptionFinal,PeakLoads,intTotalNodes,dfNetNodeLoad,\\\n",
    "#                      fltBatteryCap,fltDt,lsCostElectric,lsRdValueMax,lsRuValueMax,fltAlphaSei,fltBetaSei,fltDegradation):\n",
    "    \n",
    "#     intVehicles = np.shape(arrSOCconstraint)[0]\n",
    "#     intTimes = np.shape(arrSOCconstraint)[1]\n",
    "    \n",
    "#     # make variables\n",
    "#     varCharge = cvx.Variable((intVehicles,intTimes)) # charging rate of vehicles\n",
    "#     varDischarge = cvx.Variable((intVehicles,intTimes)) # discharging rate of vehicles\n",
    "#     varSOCs = cvx.Variable((intVehicles,intTimes)) # SOCs of the vehicles\n",
    "#     varBatteryLife=cvx.Variable((intVehicles)) #battery life of the vehicle remaining\n",
    "#     varNodeSum=cvx.Variable((intTotalNodes, intTimes))\n",
    "    \n",
    "#     # define regulation up and down variables\n",
    "#     varRegUp = cvx.Variable((np.shape(arrCanCharge))) #this array is # vehiclesxtimesteps\n",
    "#     varRegDown = cvx.Variable((np.shape(arrCanCharge)))\n",
    "#     varNumberOfCycles=cvx.Variable(intVehicles)\n",
    "#     varDegradationCost=cvx.Variable(intVehicles)\n",
    "#     #varDegradationCost=fltCost*(1-varBatteryLife)/0.2\n",
    "#     #varNumberOfCycles=(cvx.sum(varCharge, axis=1)-cvx.sum(varDischarge,axis=1))*fltDt/fltBatteryCap\n",
    "\n",
    "\n",
    "#     # initialzie constraints\n",
    "#     constraints = []\n",
    "    \n",
    "#     # define the charge rate rate constraints\n",
    "#     constraints += [varCharge >= 0] # positively defined\n",
    "#     constraints += [varDischarge <= 0] # negatively defined\n",
    "#     constraints += [varSOCs >= 0] # can't have negative SOC\n",
    "#     constraints += [varSOCs <= fltBatteryCap] # can't over charge\n",
    "#     constraints += [varNodeSum >= 0]\n",
    "#     constraints += [varRegUp >= 0]\n",
    "#     constraints += [varRegDown >= 0]\n",
    "#     constraints += [varDegradationCost >= 0] #positively constrained \n",
    "#     constraints += [varNumberOfCycles >= 0]\n",
    "    \n",
    "#     for v in range(intVehicles):\n",
    "        \n",
    "#         # ensure we still meet our battery demand through regular charging, this may not be relevant since reg down could supply?\n",
    "#         # constraints += [cvx.sum(varCharge[v,:])==cvx.sum(-varDischarge[v,:])]           \n",
    "#         # loop through each time to model charging and SOC constraints\n",
    "#         for t in range(intTimes):\n",
    "            \n",
    "#             # can only charge if present and max rate is given by array\n",
    "#             constraints += [varCharge[v, t] <= arrChargeRate[v,t]*arrCanCharge[v, t]]\n",
    "            \n",
    "#             #deleted this constraint because we are treating discharge as only occurring as part of reg up if it is not for consumption\n",
    "#             constraints += [-1*arrChargeRate[v,t]*arrCanCharge[v, t] <= varDischarge[v,t]]\n",
    "            \n",
    "#             #discharge of battery must be equal to the consumption at time steps t, ie only discharge relatedto consumption \n",
    "#             #THIS IS WHAT WAS MAKING IT INFINITY BUT I DONT UNDERSTAND WHY\n",
    "#          #   constraints += [varDischarge[v,t] == arrConsumptionFinal[v,t]]     \n",
    "            \n",
    "#             #can only charge up to max charge rate less whatever was needed to charge the vehicle \n",
    "#             constraints += [varRegDown[v,t] <= (arrCanCharge[v,t]*arrChargeRate[v,t] - varCharge[v,t])]\n",
    "#             # or what is left to charge batteries capacity\n",
    "#             constraints += [varRegDown[v,t] <= ((fltBatteryCap - varSOCs[v,t])/fltDt - varCharge[v,t])]\n",
    "            \n",
    "#             # reg up constraints \n",
    "#             # it is at most the charge rate if it's avalable\n",
    "#             constraints += [varRegUp[v,t] <= (arrCanCharge[v,t]*arrChargeRate[v,t] + varDischarge[v,t])]\n",
    "#             # or what it's minimum SOC requriement is\n",
    "#             constraints += [varRegUp[v,t] <= ((varSOCs[v,t] - arrSOCconstraint[v,t])/fltDt + varDischarge[v,t])]\n",
    "            \n",
    "#             #RegUp & Reg Down cannot occur at the same time\n",
    "#             constraints += [(varRegUp[v,t]+varRegDown[v,t]+varCharge[v,t])<=arrChargeRate[v,t]]\n",
    "            \n",
    "#             # vehicle's SOC must be greater than the minimum requirement\n",
    "#             constraints += [varSOCs[v,t] >= arrSOCconstraint[v,t]]\n",
    "           \n",
    "#         # must end at the same SOC it started at --> CAN ALSO RESULT IN NEGATIVE OBJ VALUE\n",
    "#         constraints += [varSOCs[v,0] == varSOCs[v,-1]]\n",
    "            \n",
    "#         # SOC function  \n",
    "#         for t in range(1,intTimes): # loop through from time 1 to end to set SOC, \n",
    "            \n",
    "#             constraints += [varSOCs[v,t]  == varSOCs[v,t-1] + fltDt*(varCharge[v,t] + varDischarge[v,t] \\\n",
    "#                                             + varRegDown[v,t] + arrConsumptionFinal[v,t] - varRegUp[v,t])]\n",
    "   \n",
    "#     for n, node in enumerate(lsNodes):\n",
    "        \n",
    "#         # find the transformer size \n",
    "#         TransformerMax=PeakLoads[node]*1.5  # max is 20% above max load\n",
    "#         # load has to be less than that \n",
    "#         constraints+= [varNodeSum[n,:] <= TransformerMax]\n",
    "        \n",
    "#          # gather node identities \n",
    "#         arrNodeIdentities= dctNodeIdentity[node]\n",
    "#         for t in range (intTimes):\n",
    "#             constraints+= [varNodeSum[n,t] == cvx.sum(arrNodeIdentities[:,t]*(varCharge[:,t]+varDischarge[:,t]+varRegDown[:,t]-varRegUp[:,t]) + dfNetNodeLoad[node].iloc[t])]\n",
    "            \n",
    "#     for v in range(intVehicles):\n",
    "#      #set up number of cycles based on the sum of all charge & discharge including reg up and down \n",
    "#         constraints+= [varNumberOfCycles[v] >= ((cvx.sum(varCharge[v,:])-cvx.sum(varDischarge[v,:])+cvx.sum(varRegDown[v,:])-cvx.sum(arrConsumptionFinal[v,:])+cvx.sum(varRegUp[v,:]))*fltDt/fltBatteryCap)]\n",
    "        \n",
    "#         #simplified linear degradation value \n",
    "#         constraints+= [varDegradationCost[v] >= 4.66*varNumberOfCycles[v]]\n",
    "             \n",
    "   \n",
    "#     return constraints, varRegDown,varRegUp,varCharge,varDegradationCost"
   ]
  },
  {
   "cell_type": "code",
<<<<<<< HEAD
   "execution_count": 60,
   "metadata": {},
   "outputs": [
    {
     "name": "stdout",
     "output_type": "stream",
     "text": [
      "(19, 192)\n"
     ]
    }
   ],
=======
   "execution_count": null,
   "metadata": {},
   "outputs": [],
>>>>>>> Velvet
   "source": [
    "out=lsRdValueMax*dctNodeIdentity[lsNodes[1]]\n",
    "print(np.shape(out))"
   ]
  },
  {
   "cell_type": "code",
<<<<<<< HEAD
   "execution_count": 19,
=======
   "execution_count": null,
>>>>>>> Velvet
   "metadata": {},
   "outputs": [],
   "source": [
    "# def make_dispatch_objectives(constraints, varRegDown,varRegUp,varCharge,varDegradationCost,\\\n",
    "#                     lsCostElectric,lsRdValueMax,lsRuValueMax):\n",
    "    \n",
    "        \n",
    "#     obj_value = cvx.sum(lsRdValueMax*cvx.sum(varRegDown,axis=0)) + \\\n",
    "#                 cvx.sum(lsRuValueMax*cvx.sum(varRegUp,axis=0)) - \\\n",
    "#                 cvx.sum(lsCostElectric*cvx.sum(varCharge,axis=0)) - \\\n",
    "#                 cvx.sum(lsCostElectric*cvx.sum(varCharge,axis=0)) -\\\n",
    "#                         cvx.sum(varDegradationCost)\n",
    "    \n",
    "#     return obj_value, varRegUp, varRegDown,varCharge"
   ]
  },
  {
   "cell_type": "markdown",
   "metadata": {},
   "source": [
    "#### Define OptimizationFunctions"
   ]
  },
  {
   "cell_type": "code",
   "execution_count": null,
   "metadata": {},
   "outputs": [],
   "source": [
    "def make_dam_constraints(arrSOCconstraint, arrChargeRate, arrCanCharge,dctNodeIdentity,lsNodes, \\\n",
    "                     fltDt, fltBatteryCap, arrConsumptionFinal,PeakLoads,intTotalNodes,dfNetNodeLoad):\n",
    "    \n",
    "    #I thought you couldn't use np functions inside cvx? may want to pass these in as variables instead\n",
    "    # we could but this is fine. it's not within a cvx expression\n",
    "    intVehicles = np.shape(arrSOCconstraint)[0]\n",
    "    intTimes = np.shape(arrSOCconstraint)[1]\n",
    "    \n",
    "    # make variables\n",
    "    varCharge = cvx.Variable((intVehicles,intTimes)) # charging rate of vehicles\n",
    "    varDischarge = cvx.Variable((intVehicles,intTimes)) # discharging rate of vehicles\n",
    "    varSOCs = cvx.Variable((intVehicles,intTimes)) # SOCs of the vehicles\n",
    "    varBatteryLife=cvx.Variable((intVehicles)) #battery life of the vehicle remaining\n",
    "    varNodeSum=cvx.Variable((intTotalNodes, intTimes))\n",
    "   # initialzie constraints\n",
    "    constraints = []\n",
    "    \n",
    "    # define the charge rate rate constraints\n",
    "    constraints += [varCharge >= 0] # positively defined\n",
    "    constraints += [varDischarge <= 0] # negatively defined\n",
    "    constraints += [varSOCs >= 0] # can't have negative SOC\n",
    "    constraints += [varSOCs <= fltBatteryCap] # can't over charge\n",
    "    constraints += [varNodeSum>=0]\n",
    "    \n",
    "    \n",
    "    #create node summation values for each vehicle at each time step to apply node level. I think this may need to be an intermediate variable that sums the vehicles together for the node?\n",
    "    #Try out the identity matrix for each node*charge[v,t] array<transformer max[t] for each node!!\n",
    "    \n",
    "    for v in range(intVehicles):\n",
    "  \n",
    "        # loop through each time to model charging and SOC constraints\n",
    "        for t in range(intTimes):\n",
    "            \n",
    "            # can only charge if present and max rate is given by array\n",
    "            constraints += [varCharge[v, t] <= arrChargeRate[v,t]*arrCanCharge[v, t]]\n",
    "            constraints += [-1*arrChargeRate[v,t]*arrCanCharge[v, t] <= varDischarge[v,t]]\n",
    "            \n",
    "            # vehicle's SOC must be greater than the minimum requirement\n",
    "            constraints += [varSOCs[v,t] >= arrSOCconstraint[v,t]]\n",
    "                  \n",
    "        for t in range(1,intTimes): # loop through from time 1 to end to set SOC\n",
    "            \n",
    "            constraints += [varSOCs[v,t]  == varSOCs[v,t-1] + varCharge[v,t]*fltDt + varDischarge[v,t]*fltDt + arrConsumptionFinal[v,t]*fltDt]\n",
    "            \n",
    "       # must end at the same SOC it started at --> CAN ALSO RESULT IN NEGATIVE OBJ VALUE\n",
    "        constraints += [varSOCs[v,0] == varSOCs[v,-1]]\n",
    "    \n",
    "    for n, node in enumerate(lsNodes):\n",
    "        \n",
    "        # find the transformer size \n",
    "        TransformerMax=PeakLoads[node]*1.5  # max is 20% above max load\n",
    "        # load has to be less than that \n",
    "        constraints+= [varNodeSum[n,:] <= TransformerMax]\n",
    "        \n",
    "        # gather node identities \n",
    "        arrNodeIdentities= dctNodeIdentity[node]\n",
    "        for t in range (intTimes):\n",
    "            constraints+= [varNodeSum[n,t] == cvx.sum(arrNodeIdentities[:,t]*varCharge[:,t]) + dfNetNodeLoad[node].iloc[t]]\n",
    "            \n",
    "            \n",
    "   \n",
    "    return constraints, varCharge, varDischarge, varSOCs, varNodeSum\n",
    "       \n",
    "    "
   ]
  },
  {
   "cell_type": "code",
   "execution_count": null,
   "metadata": {},
   "outputs": [],
   "source": [
    "def make_dam_objectives(constraints, varCharge, varDischarge, varSOCs,\\\n",
    "                    arrCanCharge, arrChargeRate,arrSOCconstraint,fltBatteryCap,fltDt, \\\n",
    "                    lsCostElectric,lsRdValue,lsRuValue,fltAlphaSei,fltBetaSei,fltDegradation):\n",
    "    \n",
    "    \n",
    "    intVehicles = np.shape(arrSOCconstraint)[0]\n",
    "    intTimes = np.shape(arrSOCconstraint)[1]\n",
    "    # define regulation up and down variables\n",
    "    varRegUp = cvx.Variable((np.shape(arrCanCharge))) #this array is # vehiclesxtimesteps\n",
    "    varRegDown = cvx.Variable((np.shape(arrCanCharge)))\n",
    "    varNumberOfCycles=cvx.Variable(intVehicles)\n",
    "    varDegradationCost=cvx.Variable(intVehicles)\n",
    "    #varDegradationCost=fltCost*(1-varBatteryLife)/0.2\n",
    "    #varNumberOfCycles=(cvx.sum(varCharge, axis=1)-cvx.sum(varDischarge,axis=1))*fltDt/fltBatteryCap\n",
    "\n",
    "\n",
    "\n",
    "    # always positive\n",
    "    constraints += [varRegUp >= 0]\n",
    "    constraints += [varRegDown >= 0]\n",
    "    constraints += [varDegradationCost>=0] #positively constrained \n",
    "    constraints += [varNumberOfCycles >= 0]\n",
    "   \n",
    "    for v in range(intVehicles):\n",
    "        constraints+= [varNumberOfCycles[v] >= (cvx.sum(varCharge[v,:]-cvx.sum(varDischarge[v,:]-arrConsumptionFinal[v,:])))*fltDt/fltBatteryCap]\n",
    "        constraints+= [varNumberOfCycles[v] >= (cvx.sum(varCharge[v,:]) - \\\n",
    "                                     cvx.sum(varDischarge[v,:]))*fltDt/fltBatteryCap]\n",
    "        constraints+= [varDegradationCost[v] >= 4.66*varNumberOfCycles[v]]\n",
    "            \n",
    "        for t in range(intTimes):\n",
    "    \n",
    "            # reg down constraints\n",
    "            # it is at most the charging rate if it's available\n",
    "            constraints += [varRegDown[v,t] <= (arrCanCharge[v,t]*arrChargeRate[v,t] - varCharge[v,t])*lsRdValue[t]]\n",
    "            # or what is left to charge batteries capacity\n",
    "            constraints += [varRegDown[v,t] <= ((fltBatteryCap - varSOCs[v,t])/fltDt - varCharge[v,t])*lsRdValue[t]]\n",
    "            \n",
    "            # reg up constraints \n",
    "            # it is at most the charge rate if it's avalable\n",
    "            constraints += [varRegUp[v,t] <= (arrCanCharge[v,t]*arrChargeRate[v,t] + varDischarge[v,t])*lsRuValue[t]]\n",
    "            # or what it's minimum SOC requriement is\n",
    "            constraints += [varRegUp[v,t] <= ((varSOCs[v,t] - arrSOCconstraint[v,t])/fltDt + varDischarge[v,t])*lsRuValue[t]]\n",
    "        \n",
    "    obj_value = cvx.sum(varRegDown) + \\\n",
    "                cvx.sum(varRegUp) - \\\n",
    "                cvx.sum(lsCostElectric*cvx.sum(varCharge,axis=0)) - \\\n",
    "               cvx.sum(varDegradationCost)\n",
    "    \n",
    "    return constraints, obj_value, varRegUp, varRegDown"
   ]
  },
  {
   "cell_type": "code",
   "execution_count": null,
   "metadata": {},
   "outputs": [],
   "source": [
    "constraints, varCharge, varDischarge, varSOCs, varNodeSum= make_constraints(arrSOCconstraint, arrChargeRate, arrCanCharge,dctNodeIdentity,lsNodes, \\\n",
    "                     fltDt, fltBatteryCap, arrConsumptionFinal,PeakLoads,intTotalNodes,dfNetNodeLoad)\n",
    "constraints, obj_value, varRegUp, varRegDown =  make_objectives(constraints, varCharge, varDischarge, varSOCs,\\\n",
    "                    arrCanCharge, arrChargeRate,arrSOCconstraint,fltBatteryCap,fltDt,\\\n",
    "                    lsCostElectric,lsRdValue,lsRuValue,fltAlphaSei,fltBetaSei,fltDegradation)\n",
    "    \n",
    "# convex usually needs to be minimized\n",
    "obj = cvx.Maximize(obj_value)\n",
    "prob = cvx.Problem(obj, constraints)\n",
    "\n",
    "prob.solve(solver=cvx.MOSEK)"
   ]
  },
  {
   "cell_type": "code",
   "execution_count": null,
   "metadata": {},
   "outputs": [],
   "source": [
    "cars = np.shape(arrConsumptionFinal)[0]\n",
    "time= np.shape(arrConsumptionFinal)[1]\n",
    "\n",
    "regUp = varRegUp.value\n",
    "regDown= varRegDown.value\n",
    "\n",
    "for c in range(cars):\n",
    "    for t in range(time):\n",
    "        \n",
    "        if regUp[c,t] > 0 and regDown[c,t] >0:\n",
    "            print(\"Trouble\",regUp[c,t],regDown[c,t])"
   ]
  },
  {
   "cell_type": "code",
   "execution_count": null,
   "metadata": {},
   "outputs": [],
   "source": [
    "arrRegUp = varRegUp.value\n",
    "\n",
    "fig, ax = plt.subplots(figsize=(11,7))\n",
    "for ind in range(1,np.shape(arrRegUp)[1]):\n",
    "\n",
    "    if ind == 1: \n",
    "        \n",
    "        ax.fill_between(np.arange(96*2),np.zeros(96*2),np.array(arrRegUp[ind,:]).flatten())\n",
    "    \n",
    "    else: \n",
    "        \n",
    "        lb = np.sum(arrRegUp[0:ind,:],axis=0)\n",
    "        ub = np.sum(arrRegUp[0:ind+1,:],axis=0)\n",
    "       \n",
    "        ax.fill_between(np.arange(96*2),np.array(lb).flatten(),np.array(ub).flatten())\n",
    "\n",
    "plt.plot(np.arange(96*2), lsRuValue,color='black')\n",
    "plt.ylabel('$')\n",
    "plt.xlabel(\"Hour of Day\")\n",
    "plt.title(\"Regulation Up Capacity\")"
   ]
  },
  {
   "cell_type": "code",
   "execution_count": null,
   "metadata": {},
   "outputs": [],
   "source": [
    "print(np.sum(varRegDown.value))\n",
    "print(np.sum(varRegUp.value))\n",
    "print(np.sum(varCharge.value))\n",
    "print(np.sum(varDischarge.value))\n",
    "print((obj.value))"
   ]
  }
 ],
 "metadata": {
  "kernelspec": {
   "display_name": "Python 3",
   "language": "python",
   "name": "python3"
  },
  "language_info": {
   "codemirror_mode": {
    "name": "ipython",
    "version": 3
   },
   "file_extension": ".py",
   "mimetype": "text/x-python",
   "name": "python",
   "nbconvert_exporter": "python",
   "pygments_lexer": "ipython3",
<<<<<<< HEAD
   "version": "3.6.5"
=======
   "version": "3.7.5"
>>>>>>> Velvet
  }
 },
 "nbformat": 4,
 "nbformat_minor": 4
}
