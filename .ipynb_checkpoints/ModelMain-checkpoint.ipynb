{
 "cells": [
  {
   "cell_type": "code",
   "execution_count": 10,
   "metadata": {},
   "outputs": [],
   "source": [
    "import pandas as pd\n",
    "import random\n",
    "import scipy as sp\n",
    "import numpy as np\n",
    "import cvxpy as cvx\n",
    "import mosek\n",
    "import matplotlib.pyplot as plt\n",
    "import math\n",
    "import warnings\n",
    "import parameters\n",
    "import simulations"
   ]
  },
  {
   "cell_type": "markdown",
   "metadata": {},
   "source": [
    "#### Load Data"
   ]
  },
  {
   "cell_type": "code",
   "execution_count": 11,
   "metadata": {},
   "outputs": [],
   "source": [
    "dfTripData = pd.read_csv(\"Data/location_data.csv\")\n",
    "dfLoadData = pd.read_csv(\"Data/use_data_2wk.csv\") #365 days, 1 min increment, 142 houses \n",
    "dfGenData = pd.read_csv(\"Data/annual_capfac_15MinInterpolation.csv\") #representative solar day, 15 min interval\n",
    "#DAM\n",
    "dfAsRDdamPrices=pd.read_csv(\"Data/AS_Prices/DAM/20190701_20190801_PRC_AS_DAM_REGDOWN.csv\")\n",
    "dfAsRUdamPrices=pd.read_csv(\"Data/AS_Prices/DAM/20190701_20190801_PRC_AS_DAM_REGUP.csv\")\n",
    "\n",
    "#RDU/RU RTM\n",
    "dfAsRDrtmPrices=pd.read_csv(\"Data/AS_Prices/RTM/20190701_20190731_PRC_INTVL_AS_RTM_REGDOWN.csv\")\n",
    "dfAsRUrtmPrices=pd.read_csv(\"Data/AS_Prices/RTM/20190701_20190731_PRC_INTVL_AS_RTM_REGUP.csv\")  \n",
    "dfCostElectric = pd.read_csv(\"Data/TOU_Rate.csv\") #15 min interal 4-9 pm, I think this is tou B"
   ]
  },
  {
   "cell_type": "markdown",
   "metadata": {},
   "source": [
    "#### Script Parameters"
   ]
  },
  {
   "cell_type": "code",
   "execution_count": 12,
   "metadata": {},
   "outputs": [],
   "source": [
    "intNumHouseNodes = 5\n",
    "intNumCommNodes = 2\n",
    "intTotalNodes = intNumHouseNodes + intNumCommNodes\n",
    "intAvgNumCarsNode = 5 # goal is to have about 5 * 5 total cars\n",
    "intSdNumCarsNode = 1\n",
    "intProfiles = dfTripData.shape[0]\n",
    "\n",
    "# could make battery parameters a randomized instantiation\n",
    "fltCarEff = 3.95 # mi/kWh\n",
    "fltBatteryCap = 40. # kWh\n",
    "fltChargeRate = 1.9 # kW\n",
    "fltDt = 0.25 # delta T\n",
    "fltHomeRate = 7 # kW\n",
    "fltWorkRate = 7 # kW\n",
    "\n",
    "# time and conversion intervals\n",
    "int_minutes=int(15)\n",
    "int_run_days=2 # day\n",
    "int_run_hours=24 # hours\n",
    "int_run_time_interval=60/int_minutes #\n",
    "time_kwh=15/60  # convert kw data to kwh\n",
    "\n",
    "\n",
    "# cost to charge\n",
    "lsCostElectric = []\n",
    "lsHolder = dfCostElectric.values.tolist()\n",
    "for ind in range(int_run_days):\n",
    "    for n in lsHolder:\n",
    "        lsCostElectric.append(n[0])"
   ]
  },
  {
   "cell_type": "code",
   "execution_count": 13,
   "metadata": {},
   "outputs": [],
   "source": [
    "# call functions to get Nodes Dataframe\n",
    "dfNodesTrips, intVeHouses = parameters.createCarsNodes(intNumHouseNodes, intNumCommNodes, intAvgNumCarsNode, intSdNumCarsNode, \\\n",
    "                    intProfiles, dfTripData)\n",
    "\n",
    "#create df of loads for commercial & residential nodes\n",
    "arrHouseLoads,dfNodeLoads, PeakTimes,PeakLoads, \\\n",
    "lsNodes,dctHomeNode = parameters.convertLoadData(dfLoadData,dfNodesTrips, \\\n",
    "                                    int_run_days,int_run_hours,int_minutes, intVeHouses,intNumCommNodes,intNumHouseNodes)\n",
    "\n",
    "#create generation for 15 min increments for each node\n",
    "arrHouseGen,dfNodeGens,npGenData = parameters.SolarGenData(dfGenData,int_run_days,int_run_hours,int_minutes, \\\n",
    "                                              intVeHouses,intNumCommNodes,intNumHouseNodes, dctHomeNode)\n",
    "\n",
    "\n",
    "# now call function to get the SOC constraints array\n",
    "arrSOCconstraint = parameters.getSOCconstraints(dfNodesTrips,\\\n",
    "                dfTripData, fltCarEff, fltChargeRate, fltDt, int_run_days)\n",
    "\n",
    "# # call function to get an array of maximum charging rates and map to location by node\n",
    "arrChargeRate, arrCanCharge,\\\n",
    "arrChargeLoc, arrHomeStation = parameters.MapCarNodesTime(int_minutes,\\\n",
    "                               int_run_hours,int_run_days, intVeHouses,dfNodesTrips,\\\n",
    "                               dfTripData, fltHomeRate, fltWorkRate)\n",
    "\n",
    "\n",
    "# # call function to get initial SOCs of vehicles\n",
    "# # replaces first column of soc constraint array\n",
    "arrSOCconstraint = parameters.getInitialSoc(arrSOCconstraint, fltBatteryCap)  #should this have a different name?\n",
    "\n",
    "# # call function to get power consumption of the vehicle\n",
    "arrConsumptionFinal = parameters.findVehicleConsumption(dfNodesTrips, dfTripData, fltCarEff, \\\n",
    "                fltDt, int_run_days)\n",
    "\n",
    "# #Get Ancillarys service values, the dict has 31 days for dam ru/rd and rtm ru/rd! can do a full run if we want\n",
    "dctASallprices,lsDAMrdMax,lsDAMruMax,lsNetru,lsNetrd = parameters.processAsValues(dfAsRDdamPrices,dfAsRUdamPrices,dfAsRDrtmPrices,dfAsRUrtmPrices,int_run_days)\n",
    "\n",
    "\n",
    "\n",
    "dfNetNodeLoad,arrNetHomeLoad,\\\n",
    "dctNodeIdentity, dctResIdentity = parameters.netLoadChargeLoc(arrHouseGen,arrHouseLoads,\\\n",
    "                                arrChargeLoc,dfNodeLoads,dfNodeGens,intVeHouses,\\\n",
    "                                intTotalNodes,lsNodes,int_minutes,int_run_hours, \\\n",
    "                                int_run_days, arrHomeStation)\n",
    "\n",
    "lsRuIdentity, lsRdIdentity = parameters.dispatches(int_run_days, int_run_hours, int_run_time_interval, 0.1)\n",
    "\n",
    "#create loop to run increasing dispatch amounts and save outputs\n"
   ]
  },
  {
   "cell_type": "markdown",
   "metadata": {},
   "source": [
    "#### Vehicle AS Dispatch"
   ]
  },
  {
   "cell_type": "code",
   "execution_count": 14,
   "metadata": {},
   "outputs": [
    {
     "ename": "NameError",
     "evalue": "name 'fltDt' is not defined",
     "output_type": "error",
     "traceback": [
      "\u001b[1;31m---------------------------------------------------------------------------\u001b[0m",
      "\u001b[1;31mNameError\u001b[0m                                 Traceback (most recent call last)",
      "\u001b[1;32m<ipython-input-14-704e1005036a>\u001b[0m in \u001b[0;36m<module>\u001b[1;34m\u001b[0m\n\u001b[0;32m      5\u001b[0m                      lsRuIdentity, lsRdIdentity)\n\u001b[0;32m      6\u001b[0m dispatch_obj_value, varRegUp, varRegDown, varCharge =  simulations.make_dispatch_objectives(constraints, varRegDown,varRegUp,varCharge,varDegradationCost,\\\n\u001b[1;32m----> 7\u001b[1;33m                     lsCostElectric,lsRdIdentity, lsRuIdentity,lsDAMrdMax,lsDAMruMax,lsNetru,lsNetrd)\n\u001b[0m\u001b[0;32m      8\u001b[0m \u001b[1;33m\u001b[0m\u001b[0m\n\u001b[0;32m      9\u001b[0m \u001b[1;31m# convex usually needs to be minimized\u001b[0m\u001b[1;33m\u001b[0m\u001b[1;33m\u001b[0m\u001b[1;33m\u001b[0m\u001b[0m\n",
      "\u001b[1;32m~\\Documents\\Stanford\\CEE_292X_Battery_Systems\\BatterySystems\\simulations.py\u001b[0m in \u001b[0;36mmake_dispatch_objectives\u001b[1;34m(constraints, varRegDown, varRegUp, varCharge, varDegradationCost, lsCostElectric, lsRdIdentity, lsRuIdentity, lsDAMrdMax, lsDAMruMax, lsNetru, lsNetrd)\u001b[0m\n\u001b[0;32m    141\u001b[0m                 \u001b[0mcvx\u001b[0m\u001b[1;33m.\u001b[0m\u001b[0msum\u001b[0m\u001b[1;33m(\u001b[0m\u001b[0mcvx\u001b[0m\u001b[1;33m.\u001b[0m\u001b[0mpos\u001b[0m\u001b[1;33m(\u001b[0m\u001b[0mlsNetru\u001b[0m\u001b[1;33m)\u001b[0m\u001b[1;33m*\u001b[0m\u001b[0mcvx\u001b[0m\u001b[1;33m.\u001b[0m\u001b[0msum\u001b[0m\u001b[1;33m(\u001b[0m\u001b[0mvarRegUp\u001b[0m\u001b[1;33m,\u001b[0m\u001b[0maxis\u001b[0m\u001b[1;33m=\u001b[0m\u001b[1;36m0\u001b[0m\u001b[1;33m)\u001b[0m\u001b[1;33m*\u001b[0m\u001b[0mlsRuIdentity\u001b[0m\u001b[1;33m*\u001b[0m\u001b[0mfltDt\u001b[0m\u001b[1;33m/\u001b[0m\u001b[1;36m15\u001b[0m\u001b[1;33m)\u001b[0m\u001b[1;33m-\u001b[0m\u001b[0;31m \u001b[0m\u001b[0;31m\\\u001b[0m\u001b[1;33m\u001b[0m\u001b[1;33m\u001b[0m\u001b[0m\n\u001b[0;32m    142\u001b[0m                 \u001b[0mcvx\u001b[0m\u001b[1;33m.\u001b[0m\u001b[0msum\u001b[0m\u001b[1;33m(\u001b[0m\u001b[0mlsCostElectric\u001b[0m\u001b[1;33m*\u001b[0m\u001b[0mcvx\u001b[0m\u001b[1;33m.\u001b[0m\u001b[0msum\u001b[0m\u001b[1;33m(\u001b[0m\u001b[0mvarCharge\u001b[0m\u001b[1;33m,\u001b[0m\u001b[0maxis\u001b[0m\u001b[1;33m=\u001b[0m\u001b[1;36m0\u001b[0m\u001b[1;33m)\u001b[0m\u001b[1;33m*\u001b[0m\u001b[0mfltDt\u001b[0m\u001b[1;33m)\u001b[0m \u001b[1;33m-\u001b[0m\u001b[0;31m \u001b[0m\u001b[0;31m\\\u001b[0m\u001b[1;33m\u001b[0m\u001b[1;33m\u001b[0m\u001b[0m\n\u001b[1;32m--> 143\u001b[1;33m                 \u001b[0mcvx\u001b[0m\u001b[1;33m.\u001b[0m\u001b[0msum\u001b[0m\u001b[1;33m(\u001b[0m\u001b[0mvarDegradationCost\u001b[0m\u001b[1;33m)\u001b[0m \u001b[1;33m-\u001b[0m\u001b[0;31m\\\u001b[0m\u001b[1;33m\u001b[0m\u001b[1;33m\u001b[0m\u001b[0m\n\u001b[0m\u001b[0;32m    144\u001b[0m                     \u001b[0mcvx\u001b[0m\u001b[1;33m.\u001b[0m\u001b[0msum\u001b[0m\u001b[1;33m(\u001b[0m\u001b[0mlsCostElectric\u001b[0m\u001b[1;33m*\u001b[0m\u001b[0mcvx\u001b[0m\u001b[1;33m.\u001b[0m\u001b[0msum\u001b[0m\u001b[1;33m(\u001b[0m\u001b[0mvarRegDown\u001b[0m\u001b[1;33m,\u001b[0m\u001b[0maxis\u001b[0m\u001b[1;33m=\u001b[0m\u001b[1;36m0\u001b[0m\u001b[1;33m)\u001b[0m\u001b[1;33m*\u001b[0m\u001b[0mlsRdIdentity\u001b[0m\u001b[1;33m*\u001b[0m\u001b[0mfltDt\u001b[0m\u001b[1;33m/\u001b[0m\u001b[1;36m15\u001b[0m\u001b[1;33m)\u001b[0m\u001b[1;33m\u001b[0m\u001b[1;33m\u001b[0m\u001b[0m\n\u001b[0;32m    145\u001b[0m \u001b[1;33m\u001b[0m\u001b[0m\n",
      "\u001b[1;31mNameError\u001b[0m: name 'fltDt' is not defined"
     ]
    }
   ],
   "source": [
    "constraints, varRegDown,varRegUp,\\\n",
    "varCharge,varNumberOfCycles, varDegradationCost= simulations.make_dispatch_constraints(arrSOCconstraint, arrChargeRate, arrCanCharge,\\\n",
    "                        dctNodeIdentity,lsNodes, arrConsumptionFinal,PeakLoads,intTotalNodes,dfNetNodeLoad,\\\n",
    "                     fltBatteryCap,fltDt,lsCostElectric,lsDAMrdMax,lsDAMruMax,\\\n",
    "                     lsRuIdentity, lsRdIdentity)\n",
    "dispatch_obj_value, varRegUp, varRegDown, varCharge =  simulations.make_dispatch_objectives(constraints, varRegDown,varRegUp,varCharge,varDegradationCost,\\\n",
    "                    lsCostElectric,lsRdIdentity, lsRuIdentity,lsDAMrdMax,lsDAMruMax,lsNetru,lsNetrd, fltDt)\n",
    "    \n",
    "# convex usually needs to be minimized\n",
    "dispatchObj = cvx.Maximize(obj_value)\n",
    "dispatchProb = cvx.Problem(dispatchObj, constraints)\n",
    "\n",
    "dispatchProb.solve(solver=cvx.MOSEK)"
   ]
  },
  {
   "cell_type": "code",
   "execution_count": null,
   "metadata": {},
   "outputs": [],
   "source": [
    "#OUTPUTS\n",
    "# THINGS TO SAVE !!\n",
    "\n",
    "fltObjective = obj_value.value\n",
    "arrRuDispatches = varRegUp.value*lsRuIdentity  \n",
    "arrRdDispatches = varRegDown.value*lsRuIdentity\n",
    "arrDegradation = varDegradationCost.value # this is for each vehicle. sum? \n",
    "arrNumberCycles = varNumberOfCycles.value\n",
    "fltRegUpVal = np.sum(varRegUp.value*lsDAMruMax)\n",
    "fltRegDownVal = np.sum(varRegDown.value*lsDAMrdMax)"
   ]
  },
  {
   "cell_type": "code",
   "execution_count": null,
   "metadata": {},
   "outputs": [],
   "source": [
    "#graphs"
   ]
  },
  {
   "cell_type": "markdown",
   "metadata": {},
   "source": [
    "#### Optimize for TOU only"
   ]
  },
  {
   "cell_type": "code",
   "execution_count": null,
   "metadata": {},
   "outputs": [],
   "source": [
    "constraints, varCharge, varSOCs = simulations.make_tou_constraints(arrSOCconstraint, arrChargeRate, arrCanCharge,\\\n",
    "                                                fltDt, fltBatteryCap, arrConsumptionFinal,PeakLoads,intTotalNodes, dfNetNodeLoad)\n",
    "\n",
    "tou_constraints, tou_obj_value = simulations.make_tou_objectives(constraints, varCharge,arrSOCconstraint,fltDt,lsCostElectric,arrConsumptionFinal)\n",
    "\n",
    "touObj = cvx.Minimize(tou_obj_value)\n",
    "touProb = cvx.Problem(touObj, tou_constraints)\n",
    "\n",
    "touProb.solve(solver=cvx.MOSEK)"
   ]
  },
  {
   "cell_type": "code",
   "execution_count": null,
   "metadata": {},
   "outputs": [],
   "source": [
    "#OUTPUTS\n",
    "# THINGS TO SAVE !!\n",
    "fltObjective = obj_value.value\n",
    "arrRuDispatches = varRegUp.value*lsRuIdentity  \n",
    "arrRdDispatches = varRegDown.value*lsRuIdentity\n",
    "arrDegradation = varDegradationCost.value # this is for each vehicle. sum? \n",
    "arrNumberCycles = varNumberOfCycles.value\n",
    "fltRegUpVal = np.sum(varRegUp.value*lsDAMruMax)\n",
    "fltRegDownVal = np.sum(varRegDown.value*lsDAMrdMax)"
   ]
  },
  {
   "cell_type": "code",
   "execution_count": null,
   "metadata": {},
   "outputs": [],
   "source": [
    "#graphs"
   ]
  },
  {
   "cell_type": "markdown",
   "metadata": {},
   "source": [
    "#### Optimize a Stationary Battery"
   ]
  },
  {
   "cell_type": "code",
   "execution_count": null,
   "metadata": {},
   "outputs": [],
   "source": [
    "lsResNodes = [strNode for strNode in lsNodes if \"Res\" in strNode]\n",
    "constraints, varRegDown,varRegUp,varCharge,varDegradationCost = make_battery_constraints(arrSOCconstraint, arrChargeRate, dctResIdentity,lsResNodes, \\\n",
    "                     PeakLoads,intTotalNodes,dfNetNodeLoad,\\\n",
    "                     fltBatteryCap,fltDt,lsCostElectric,lsRdValueMax,lsRuValueMax,\\\n",
    "                     lsRuIdentity, lsRdIdentity, fltWorkRate)\n",
    "\n",
    "bat_obj_value, varRegUp, varRegDown,varCharge = make_battery_objectives(constraints, varRegDown,varRegUp,varCharge,\\\n",
    "                                            varDegradationCost,lsCostElectric,lsRdValueMax,lsRuValueMax)\n",
    "\n",
    "\n",
    "batObj = cvx.Maximize(bat_obj_value)\n",
    "batProb = cvx.Problem(batObj, constraints)\n",
    "\n",
    "batProb.solve(solver=cvx.MOSEK)"
   ]
  },
  {
   "cell_type": "code",
   "execution_count": null,
   "metadata": {},
   "outputs": [],
   "source": []
  },
  {
   "cell_type": "code",
   "execution_count": null,
   "metadata": {},
   "outputs": [],
   "source": [
    "#Calculate flex values\n",
    "\n",
    "lsResNodes = [strNode for strNode in lsNodes if \"Res\" in strNode]\n",
    "constraints, varRegDown,varRegUp,varCharge,varDegradationCost = make_battery_constraints(arrSOCconstraint, arrChargeRate, dctResIdentity,lsResNodes, \\\n",
    "                     PeakLoads,intTotalNodes,dfNetNodeLoad,\\\n",
    "                     fltBatteryCap,fltDt,lsCostElectric,lsRdValueMax,lsRuValueMax,\\\n",
    "                     lsRuIdentity, lsRdIdentity, fltWorkRate)\n",
    "\n",
    "obj_value, varRegUp, varRegDown,varCharge = make_battery_objectives(constraints, varRegDown,varRegUp,varCharge,\\\n",
    "                                            varDegradationCost,lsCostElectric,lsRdValueMax,lsRuValueMax)\n",
    "\n",
    "\n",
    "obj = cvx.Maximize(obj_value)\n",
    "prob = cvx.Problem(obj, constraints)\n",
    "\n",
    "prob.solve(solver=cvx.MOSEK)"
   ]
  }
 ],
 "metadata": {
  "kernelspec": {
   "display_name": "Python 3",
   "language": "python",
   "name": "python3"
  },
  "language_info": {
   "codemirror_mode": {
    "name": "ipython",
    "version": 3
   },
   "file_extension": ".py",
   "mimetype": "text/x-python",
   "name": "python",
   "nbconvert_exporter": "python",
   "pygments_lexer": "ipython3",
   "version": "3.7.5"
  }
 },
 "nbformat": 4,
 "nbformat_minor": 4
}
