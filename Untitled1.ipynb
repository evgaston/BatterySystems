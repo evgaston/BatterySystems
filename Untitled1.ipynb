{
 "cells": [
  {
   "cell_type": "code",
   "execution_count": 1,
   "metadata": {},
   "outputs": [
    {
     "name": "stdout",
     "output_type": "stream",
     "text": [
      "Collecting cvxpy\n",
      "  Using cached https://files.pythonhosted.org/packages/36/6e/628710ad996da232814bbcfce9984e1bb12683504e9fff7e0fe9ebc97785/cvxpy-1.0.25-cp37-cp37m-macosx_10_9_x86_64.whl\n",
      "Requirement already satisfied: multiprocess in /Users/michellesolomon/opt/anaconda3/lib/python3.7/site-packages (from cvxpy) (0.70.9)\n",
      "Requirement already satisfied: numpy>=1.15 in /Users/michellesolomon/opt/anaconda3/lib/python3.7/site-packages (from cvxpy) (1.17.2)\n",
      "Collecting scs>=1.1.3 (from cvxpy)\n",
      "  Using cached https://files.pythonhosted.org/packages/f2/6e/dbdd778c64c1920ae357a2013ea655d65a1f8b60f397d6e5549e4aafe8ec/scs-2.1.1-2.tar.gz\n",
      "Requirement already satisfied: six in /Users/michellesolomon/opt/anaconda3/lib/python3.7/site-packages (from cvxpy) (1.12.0)\n",
      "Requirement already satisfied: scipy>=1.1.0 in /Users/michellesolomon/opt/anaconda3/lib/python3.7/site-packages (from cvxpy) (1.3.1)\n",
      "Collecting osqp>=0.4.1 (from cvxpy)\n",
      "  Using cached https://files.pythonhosted.org/packages/38/b7/1c70a2371de41d0a0d517ec8c060e741c05c30f21a9cc5a8abc239fdd302/osqp-0.6.1-cp37-cp37m-macosx_10_9_x86_64.whl\n",
      "Collecting ecos>=2 (from cvxpy)\n",
      "  Using cached https://files.pythonhosted.org/packages/b9/3a/59aa93b573a22fda44402383aeddcc2a081c31e61080af3da9d11855c77a/ecos-2.0.7.post1.tar.gz\n",
      "Requirement already satisfied: dill>=0.3.1 in /Users/michellesolomon/opt/anaconda3/lib/python3.7/site-packages (from multiprocess->cvxpy) (0.3.1.1)\n",
      "Requirement already satisfied: future in /Users/michellesolomon/opt/anaconda3/lib/python3.7/site-packages (from osqp>=0.4.1->cvxpy) (0.17.1)\n",
      "Building wheels for collected packages: scs, ecos\n",
      "  Building wheel for scs (setup.py) ... \u001b[?25ldone\n",
      "\u001b[?25h  Created wheel for scs: filename=scs-2.1.1.post2-cp37-cp37m-macosx_10_9_x86_64.whl size=119298 sha256=26d1f943386e13924180af7242f5a30f5327228a5c5581d0663ec41b90d81e6b\n",
      "  Stored in directory: /Users/michellesolomon/Library/Caches/pip/wheels/68/3f/24/e9c75d426f600634cdac68321184ba06fdc4ab2d189b5c4541\n",
      "  Building wheel for ecos (setup.py) ... \u001b[?25ldone\n",
      "\u001b[?25h  Created wheel for ecos: filename=ecos-2.0.7.post1-cp37-cp37m-macosx_10_9_x86_64.whl size=83786 sha256=aea80af19f7b83383ca7bfcc58e13e855bcbeb2e4736eba2d611d1bc22816cf1\n",
      "  Stored in directory: /Users/michellesolomon/Library/Caches/pip/wheels/4b/7d/90/39ff7dca0e5c06740afc993ab4209a1719fc1d616daf7af040\n",
      "Successfully built scs ecos\n",
      "Installing collected packages: scs, osqp, ecos, cvxpy\n",
      "Successfully installed cvxpy-1.0.25 ecos-2.0.7.post1 osqp-0.6.1 scs-2.1.1.post2\n",
      "Note: you may need to restart the kernel to use updated packages.\n"
     ]
    }
   ],
   "source": [
    "pip install cvxpy"
   ]
  },
  {
   "cell_type": "code",
   "execution_count": null,
   "metadata": {},
   "outputs": [],
   "source": []
  }
 ],
 "metadata": {
  "kernelspec": {
   "display_name": "Python 3",
   "language": "python",
   "name": "python3"
  },
  "language_info": {
   "codemirror_mode": {
    "name": "ipython",
    "version": 3
   },
   "file_extension": ".py",
   "mimetype": "text/x-python",
   "name": "python",
   "nbconvert_exporter": "python",
   "pygments_lexer": "ipython3",
   "version": "3.7.4"
  }
 },
 "nbformat": 4,
 "nbformat_minor": 2
}
