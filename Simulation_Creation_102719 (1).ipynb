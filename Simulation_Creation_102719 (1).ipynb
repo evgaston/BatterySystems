{
 "cells": [
  {
   "cell_type": "code",
   "execution_count": 1,
   "metadata": {},
   "outputs": [],
   "source": [
    "import pandas as pd\n",
    "import random\n",
    "import numpy as np"
   ]
  },
  {
   "cell_type": "markdown",
   "metadata": {},
   "source": [
    "#### Load Data"
   ]
  },
  {
   "cell_type": "code",
   "execution_count": 2,
   "metadata": {},
   "outputs": [],
   "source": [
    "dfTripData = pd.read_csv(\"location_data.csv\")"
   ]
  },
  {
   "cell_type": "markdown",
   "metadata": {},
   "source": [
    "#### Script Parameters"
   ]
  },
  {
   "cell_type": "code",
   "execution_count": 3,
   "metadata": {},
   "outputs": [],
   "source": [
    "intNumHouseNodes = 5\n",
    "intNumCommNodes = 2\n",
    "intAvgNumCarsNode = 5 # goal is to have about 5 * 5 total cars\n",
    "intSdNumCarsNode = 1\n",
    "intProfiles = dfTripData.shape[0]\n",
    "\n",
    "# could make battery parameters a randomized instantiation\n",
    "fltCarEff = 3.95 # mi/kWh\n",
    "fltBatteryCap = 40. # kWh"
   ]
  },
  {
   "cell_type": "markdown",
   "metadata": {},
   "source": [
    "#### Functions"
   ]
  },
  {
   "cell_type": "code",
   "execution_count": 23,
   "metadata": {},
   "outputs": [],
   "source": [
    "# create residential nodes\n",
    "\n",
    "def createCarsNodes(intNumHouseNodes, intNumCommNodes, intAvgNumCarsNode, intSdNumCarsNode, \\\n",
    "                    intProfiles, dfTripData):\n",
    "    #initialize data frame to hold master\n",
    "    dfNodesTrips = pd.DataFrame(columns=['TripId','ResNode','CommNode'])  \n",
    "\n",
    "    for intNode in range(intNumHouseNodes):\n",
    "\n",
    "        # find how many vehicles will be at that residential node\n",
    "        intNodeNumCars = int(random.gauss(intAvgNumCarsNode,intSdNumCarsNode))\n",
    "        # assign cars to that node\n",
    "        lsCarIds = [] # container to hold trip id for that node\n",
    "        lsCommNode = [] # container to hold where the commerical node \n",
    "        lsResNode = [] # container to hold the res node\n",
    "        for intCar in range(intNodeNumCars):\n",
    "\n",
    "            # find a car from the data frame\n",
    "            ind = random.randint(0,intProfiles)\n",
    "            lsCarIds.append(dfTripData['ID'].iloc[ind]) # add to car id container\n",
    "\n",
    "            # save res node\n",
    "            lsResNode.append(intNode)\n",
    "\n",
    "            # find which commercial node that car goes to\n",
    "            lsCommNode.append(random.randint(1,intNumCommNodes))\n",
    "\n",
    "        # create data frame and add to master\n",
    "        dfNode = pd.DataFrame(list(zip(lsCarIds,lsResNode,lsCommNode)), \\\n",
    "                              columns=['TripId','ResNode','CommNode'])\n",
    "\n",
    "        dfNodesTrips = dfNodesTrips.append(dfNode)\n",
    "\n",
    "    dfNodesTrips.reset_index(inplace=True, drop=True)\n",
    "    \n",
    "    return dfNodesTrips\n",
    "\n",
    "    "
   ]
  },
  {
   "cell_type": "code",
   "execution_count": 61,
   "metadata": {},
   "outputs": [],
   "source": [
    "def getSOCconstraints(dfNodesTrips, fltCarEff,fltBatteryCap):\n",
    "\n",
    "    intNumProfs = dfNodesTrips.shape[0]\n",
    "    arrSOCrequirements = np.zeros((intNumProfs, 96))\n",
    "\n",
    "    for ind, strId in enumerate(dfNodesTrips['TripId']):\n",
    "\n",
    "        # find miles travelled\n",
    "        fltMiles = dfTripData.loc[dfTripData['ID'] == strId,'DIST_M'].values[0]\n",
    "\n",
    "        # get a list of locations\n",
    "        lsLocations = dfTripData.loc[dfTripData['ID'] == strId].values.flatten()[3:-1].tolist()\n",
    "\n",
    "        # so that we can find how many intervals we are away\n",
    "        intAway = sum(1 if strLoc == \"A\" else 0 for strLoc in lsLocations)\n",
    "\n",
    "        # and then find the average miles travelled each interval\n",
    "        fltAvgMileInterval = fltMiles / intAway\n",
    "\n",
    "        intStart = 0 \n",
    "        while intStart < 96 and 'A' in lsLocations[intStart:]:\n",
    "\n",
    "            # Find the first first time we start moving\n",
    "            intStart = intStart + lsLocations[intStart:].index('A') \n",
    "\n",
    "            # from there find when we arrive at a destination\n",
    "            if 'W' in lsLocations[intStart:] and 'H' in lsLocations[intStart:]:\n",
    "                intEnd = min(lsLocations[intStart:].index('H'), lsLocations[intStart:].index('W'))\n",
    "            elif 'W' in lsLocations[intStart:]:\n",
    "                intEnd = lsLocations[intStart:].index('W')\n",
    "            elif 'H' in lsLocations[intStart:]:\n",
    "                intEnd = lsLocations[intStart:].index('H')\n",
    "            else: # we are going to delete that profile cause something is wrong\n",
    "                print(lsLocations[intStart:])\n",
    "                dfNodesTrips = dfNodesTrips.drop([ind])\n",
    "\n",
    "            # intervals driving for trip is then (intStart+intEnd +1) - intStart = intEnd =1\n",
    "            # then we can find miles travelled for first trip \n",
    "            fltMilesTraveled = fltAvgMileInterval * (intEnd)\n",
    "            fltKwhRequirement = fltMilesTraveled / fltCarEff # miles / (miles/kWh)\n",
    "\n",
    "            # now find SOC required\n",
    "            fltInitialSoc = fltKwhRequirement / fltBatteryCap\n",
    "\n",
    "            # so we need to to have the initial SOC at the interval before this time:\n",
    "            arrSOCrequirements[ind,intStart-1] = fltInitialSOC\n",
    "\n",
    "            intStart += intEnd # increment the starting point for finding the next trip\n",
    "\n",
    "    return arrSOCrequirements\n"
   ]
  },
  {
   "cell_type": "markdown",
   "metadata": {},
   "source": [
    "#### Execute"
   ]
  },
  {
   "cell_type": "code",
   "execution_count": 62,
   "metadata": {},
   "outputs": [],
   "source": [
    "# call functions to get Nodes Dataframe\n",
    "dfNodesTrips = createCarsNodes(intNumHouseNodes, intNumCommNodes, intAvgNumCarsNode, intSdNumCarsNode, \\\n",
    "                    intProfiles, dfTripData)\n",
    "\n",
    "# now call function to get the SOC constraints array\n",
    "arrSOCconstraint = getSOCconstraints(dfNodesTrips, fltCarEff,fltBatteryCap)"
   ]
  }
 ],
 "metadata": {
  "kernelspec": {
   "display_name": "Python 3",
   "language": "python",
   "name": "python3"
  },
  "language_info": {
   "codemirror_mode": {
    "name": "ipython",
    "version": 3
   },
   "file_extension": ".py",
   "mimetype": "text/x-python",
   "name": "python",
   "nbconvert_exporter": "python",
   "pygments_lexer": "ipython3",
   "version": "3.6.5"
  }
 },
 "nbformat": 4,
 "nbformat_minor": 2
}
